{
 "cells": [
  {
   "cell_type": "code",
   "execution_count": 1,
   "metadata": {
    "collapsed": false
   },
   "outputs": [],
   "source": [
    "run Advandeced_Turbo_lib.py"
   ]
  },
  {
   "cell_type": "code",
   "execution_count": 5,
   "metadata": {
    "collapsed": true
   },
   "outputs": [],
   "source": [
    "SNR = 5\n",
    "l = 20\n",
    "S = np.zeros([2,8],int)\n",
    "Q = np.zeros([2,8],int)\n",
    "S1 = np.zeros([2,8],int)\n",
    "Q1 = np.zeros([2,8],int)\n",
    "Qm1 = np.zeros([2,8],int)\n",
    "_Turbo_lib.create_matrix_SQ_XOR_all(S,Q,S1,Q1,Qm1)\n",
    "F = advanced_FSM(S,Q,S1,Q1, Qm1)\n",
    "l1 = l+F.K"
   ]
  },
  {
   "cell_type": "code",
   "execution_count": 6,
   "metadata": {
    "collapsed": false
   },
   "outputs": [
    {
     "ename": "TypeError",
     "evalue": "unsupported operand type(s) for -: 'tuple' and 'int'",
     "output_type": "error",
     "traceback": [
      "\u001b[1;31m---------------------------------------------------------------------------\u001b[0m",
      "\u001b[1;31mTypeError\u001b[0m                                 Traceback (most recent call last)",
      "\u001b[1;32m<ipython-input-6-c4beb8b4333a>\u001b[0m in \u001b[0;36m<module>\u001b[1;34m()\u001b[0m\n\u001b[0;32m      2\u001b[0m \u001b[1;31m#d=np.array([0, 1, 1, 0, 1, 1, 0, 0, 1, 1])\u001b[0m\u001b[1;33m\u001b[0m\u001b[1;33m\u001b[0m\u001b[0m\n\u001b[0;32m      3\u001b[0m \u001b[0mc\u001b[0m \u001b[1;33m=\u001b[0m \u001b[0mF\u001b[0m\u001b[1;33m.\u001b[0m\u001b[0mencode_zero_term\u001b[0m\u001b[1;33m(\u001b[0m\u001b[0md\u001b[0m\u001b[1;33m)\u001b[0m\u001b[1;33m\u001b[0m\u001b[0m\n\u001b[1;32m----> 4\u001b[1;33m \u001b[0ms\u001b[0m \u001b[1;33m=\u001b[0m \u001b[1;36m2\u001b[0m\u001b[1;33m*\u001b[0m\u001b[0mc\u001b[0m \u001b[1;33m-\u001b[0m \u001b[1;36m1\u001b[0m \u001b[1;31m# BPSK\u001b[0m\u001b[1;33m\u001b[0m\u001b[0m\n\u001b[0m\u001b[0;32m      5\u001b[0m \u001b[1;33m(\u001b[0m\u001b[0mx\u001b[0m\u001b[1;33m,\u001b[0m \u001b[0msigma2w\u001b[0m\u001b[1;33m)\u001b[0m \u001b[1;33m=\u001b[0m \u001b[0mAWGN\u001b[0m\u001b[1;33m(\u001b[0m\u001b[0ms\u001b[0m\u001b[1;33m,\u001b[0m \u001b[0mSNR\u001b[0m\u001b[1;33m)\u001b[0m\u001b[1;33m\u001b[0m\u001b[0m\n\u001b[0;32m      6\u001b[0m \u001b[0mmu\u001b[0m \u001b[1;33m=\u001b[0m \u001b[0mnp\u001b[0m\u001b[1;33m.\u001b[0m\u001b[0mzeros\u001b[0m\u001b[1;33m(\u001b[0m\u001b[1;33m[\u001b[0m\u001b[0ml1\u001b[0m\u001b[1;33m,\u001b[0m \u001b[1;36m2\u001b[0m\u001b[1;33m]\u001b[0m\u001b[1;33m)\u001b[0m\u001b[1;33m\u001b[0m\u001b[0m\n",
      "\u001b[1;31mTypeError\u001b[0m: unsupported operand type(s) for -: 'tuple' and 'int'"
     ]
    }
   ],
   "source": [
    "d = np.random.randint(2, size=l)\n",
    "#d=np.array([0, 1, 1, 0, 1, 1, 0, 0, 1, 1])\n",
    "c = F.encode_zero_term(d)\n",
    "s = 2*c - 1 # BPSK\n",
    "(x, sigma2w) = AWGN(s, SNR)\n",
    "mu = np.zeros([l1, 2])\n",
    "mu[:,0] = np.exp(-np.abs(x + 1)**2/sigma2w)\n",
    "mu[:,1] = np.exp(-np.abs(x - 1)**2/sigma2w)\n",
    "\n",
    "pd = np.ones(l1*2, float)/2  # no a priory knowledge\n",
    "pc = mu.flatten() # observation\n",
    "res_conv = F.update(pc, pd).reshape(l1, 2) # conventional prob based solution\n",
    "res_conv2 = F.update_C(mu, np.ones([l1,2],float)/2) # conventional prob based solution\n",
    "#    print res_conv[:10], np.argmax(res_conv, axis=1)[:10], d[:10]\n",
    "nerr_c2 = np.sum(np.argmax(res_conv2, axis=1) != d)\n",
    "nerr_c = np.sum(np.argmax(res_conv, axis=1) != d)\n",
    "nerr_u = np.sum(np.argmax(mu, axis=1) != c)"
   ]
  },
  {
   "cell_type": "code",
   "execution_count": 7,
   "metadata": {
    "collapsed": false
   },
   "outputs": [
    {
     "data": {
      "text/plain": [
       "(array([0, 1, 1, 0, 0, 0, 0, 0, 1, 1, 1, 1, 0, 0, 0, 0, 1, 0, 1, 0, 1, 1, 0]),\n",
       " array([1, 1, 0]))"
      ]
     },
     "execution_count": 7,
     "metadata": {},
     "output_type": "execute_result"
    }
   ],
   "source": [
    "c"
   ]
  },
  {
   "cell_type": "code",
   "execution_count": 8,
   "metadata": {
    "collapsed": false
   },
   "outputs": [],
   "source": [
    "pc_inds = np.array([[0,1]]).repeat(l1,axis=0)\n",
    "pd_inds = np.array([[0,1]]).repeat(l1,axis=0)\n",
    "pd_vals = np.ones([l1,2])/2\n",
    "pc_vals = mu"
   ]
  },
  {
   "cell_type": "code",
   "execution_count": 9,
   "metadata": {
    "collapsed": false
   },
   "outputs": [
    {
     "name": "stdout",
     "output_type": "stream",
     "text": [
      "CPU times: user 32 ms, sys: 1 ms, total: 33 ms\n",
      "Wall time: 33.3 ms\n",
      "0\n"
     ]
    }
   ],
   "source": [
    "%time a =F.update_lim(pd_inds, pd_vals, pc_inds, pc_vals, 2,8,2)\n",
    "print np.sum(np.abs(a[1][:-3,0]-d))"
   ]
  },
  {
   "cell_type": "code",
   "execution_count": 10,
   "metadata": {
    "collapsed": false
   },
   "outputs": [
    {
     "name": "stdout",
     "output_type": "stream",
     "text": [
      "[1 1 1 0 1 0 0 1 0 1 1 1 0 1 0 1 0 1 1 0 0 1 0]\n",
      "[1 1 1 0 1 0 0 1 0 1 1 1 0 1 0 1 0 1 1 0]\n"
     ]
    }
   ],
   "source": [
    "print a[1][:,0]\n",
    "print d"
   ]
  },
  {
   "cell_type": "code",
   "execution_count": 11,
   "metadata": {
    "collapsed": false
   },
   "outputs": [
    {
     "name": "stdout",
     "output_type": "stream",
     "text": [
      "CPU times: user 17 ms, sys: 0 ns, total: 17 ms\n",
      "Wall time: 16.5 ms\n"
     ]
    }
   ],
   "source": [
    "%time a = F.update_lim(pd_inds, pd_vals, pc_inds, pc_vals, 2,2,2)"
   ]
  },
  {
   "cell_type": "code",
   "execution_count": 50,
   "metadata": {
    "collapsed": true
   },
   "outputs": [],
   "source": [
    "def pmf2df(pmf, max_vals):\n",
    "    x,y = pmf.shape\n",
    "    if y <= max_vals:\n",
    "        inds = np.array([np.arange(y)]).repeat(x,axis=0)\n",
    "        vals = pmf\n",
    "    else:\n",
    "        temp = np.argsort(pmf, axis = 1)[:,-1::-1]        \n",
    "        vals = np.vstack([pmf[i,temp[i,:max_vals]] for i in range(x)])        \n",
    "        inds = temp[:,:max_vals]\n",
    "        \n",
    "    return inds, vals\n"
   ]
  },
  {
   "cell_type": "code",
   "execution_count": 1,
   "metadata": {
    "collapsed": true
   },
   "outputs": [],
   "source": [
    "run Advandeced_Turbo_lib.py"
   ]
  },
  {
   "cell_type": "code",
   "execution_count": 2,
   "metadata": {
    "collapsed": true
   },
   "outputs": [],
   "source": [
    "def QAM(M): # 2**M QAM constellation\n",
    "    if M == 0:\n",
    "        return np.array([0])\n",
    "    odd = M % 2\n",
    "    base = (M - odd) / 2\n",
    "    min_Re = -2**(base+odd) + 1\n",
    "    max_Re = 2**(base+odd) - 1\n",
    "    min_Im = -2**base + 1\n",
    "    max_Im = 2**base - 1\n",
    "    const = np.asarray([i + 1j*j  for i in np.arange(min_Re, max_Re+1, 2)\\\n",
    "                                   for j in np.arange(min_Im, max_Im+1, 2)])\n",
    "    scale = np.sqrt((np.abs(const)**2).sum()/float(2**M))\n",
    "    return const / scale\n"
   ]
  },
  {
   "cell_type": "code",
   "execution_count": 3,
   "metadata": {
    "collapsed": false
   },
   "outputs": [],
   "source": [
    "Nb = 4\n",
    "k = 2\n",
    "const = QAM(Nb)\n",
    "SNR = 12\n",
    "Aq = 2**Nb"
   ]
  },
  {
   "cell_type": "code",
   "execution_count": 4,
   "metadata": {
    "collapsed": false
   },
   "outputs": [],
   "source": [
    "S = Sparse_Turbo_Coder(k, 1./3, [], [], 3, Aq, 0, 5)"
   ]
  },
  {
   "cell_type": "code",
   "execution_count": 5,
   "metadata": {
    "collapsed": false
   },
   "outputs": [
    {
     "name": "stdout",
     "output_type": "stream",
     "text": [
      "[12  3 12 15  3  3 15 12 12  3 15 15 15 15  3 15 15 12]\n"
     ]
    }
   ],
   "source": [
    "#b = np.random.randint(Aq, size=k)\n",
    "b = np.array([12,3],int)\n",
    "c = S.encode_zero(b)\n",
    "print c\n",
    "#print len(c)\n",
    "s = const[c]\n",
    "(x, sigma2w) = AWGN(s, SNR)"
   ]
  },
  {
   "cell_type": "code",
   "execution_count": 6,
   "metadata": {
    "collapsed": false
   },
   "outputs": [
    {
     "name": "stdout",
     "output_type": "stream",
     "text": [
      "(array([3, 2, 2, 2, 1]), array([3, 2, 1]))\n"
     ]
    }
   ],
   "source": [
    "#S.F.encode(np.array([3,1]))\n",
    "print S.F.encode_zero_term(np.array([3,1]))\n"
   ]
  },
  {
   "cell_type": "code",
   "execution_count": 7,
   "metadata": {
    "collapsed": false
   },
   "outputs": [
    {
     "name": "stdout",
     "output_type": "stream",
     "text": [
      "[12  3] [12 15  3] [ 3 15 12] [15 15  3] [15 15 12] [12 15] [ 3 15]\n"
     ]
    }
   ],
   "source": [
    "b_int = b[S.inter]\n",
    "k = len(b)\n",
    "p = S.n - k\n",
    "c1_full, b_add1 = S.F.encode_zero_term(b)\n",
    "c2_full, b_add2 = S.F.encode_zero_term(b_int)\n",
    "c1 = c1_full[:(-S.F.K)]\n",
    "c2 = c2_full[:(-S.F.K)]\n",
    "c1_add = c1_full[(-S.F.K):]\n",
    "c2_add = c2_full[(-S.F.K):]\n",
    "print b, b_add1, b_add2, c1_add, c2_add, c1, c2"
   ]
  },
  {
   "cell_type": "code",
   "execution_count": 10,
   "metadata": {
    "collapsed": true
   },
   "outputs": [],
   "source": [
    "plt.plot(np.real(x), np.imag(x), 'xr')\n",
    "plt.plot(np.real(const), np.imag(const), 'ob')\n",
    "plt.show()"
   ]
  },
  {
   "cell_type": "code",
   "execution_count": 8,
   "metadata": {
    "collapsed": false
   },
   "outputs": [],
   "source": [
    "N = len(c)"
   ]
  },
  {
   "cell_type": "code",
   "execution_count": 9,
   "metadata": {
    "collapsed": false
   },
   "outputs": [],
   "source": [
    "mu = np.zeros([N, Aq])\n",
    "for i in range(Aq): \n",
    "    mu[:, i] = np.exp(-np.abs(x - const[i])**2/sigma2w)\n"
   ]
  },
  {
   "cell_type": "code",
   "execution_count": 23,
   "metadata": {
    "collapsed": false
   },
   "outputs": [],
   "source": [
    "#%time inds, vals = S.decode(mu, max_vals = 16, max_valsS = 100)"
   ]
  },
  {
   "cell_type": "code",
   "execution_count": 16,
   "metadata": {
    "collapsed": false
   },
   "outputs": [
    {
     "name": "stdout",
     "output_type": "stream",
     "text": [
      "[ 0.  0.  0.  0.  0.  0.  0.  0.  0.  0.  0.  0.  0.  0.  0.  0.  0.  0.\n",
      "  0.  0.]\n"
     ]
    }
   ],
   "source": [
    "\n",
    "def decide(inds, vals):\n",
    "    return [inds[i,np.argmax(vals[i,:])] for i in range(len(inds))]\n",
    "\n",
    "print decide(inds,vals)- b\n",
    "    "
   ]
  },
  {
   "cell_type": "code",
   "execution_count": 15,
   "metadata": {
    "collapsed": false
   },
   "outputs": [
    {
     "data": {
      "text/plain": [
       "array([[  6.17077428e-20,   3.37552430e-01,   8.03018510e-35,\n",
       "          4.39265540e-16],\n",
       "       [  1.66330203e-26,   1.16218885e-09,   2.63616434e-18,\n",
       "          1.84195098e-01],\n",
       "       [  9.90645875e-16,   9.26073659e-01,   4.06060603e-30,\n",
       "          3.79592787e-15],\n",
       "       [  1.37711278e-11,   6.51797197e-01,   3.52714051e-26,\n",
       "          1.66942049e-15],\n",
       "       [  1.75739676e-15,   3.47662041e-33,   5.12367199e-01,\n",
       "          1.01360507e-18],\n",
       "       [  1.52773676e-16,   2.17846883e-27,   6.08210683e-01,\n",
       "          8.67275075e-12]])"
      ]
     },
     "execution_count": 15,
     "metadata": {},
     "output_type": "execute_result"
    }
   ],
   "source": [
    "mu"
   ]
  },
  {
   "cell_type": "code",
   "execution_count": 10,
   "metadata": {
    "collapsed": false,
    "scrolled": false
   },
   "outputs": [],
   "source": [
    "max_vals = 16\n",
    "k = S.k\n",
    "K = S.F.K\n",
    "p = S.p\n",
    "inter = S.inter\n",
    "deinter = S.deinter\n",
    "mbi = mu[:k,:]\n",
    "mci = mu[(k+K*2):(-2*K),:]\n",
    "b1term_i, b1term_v= pmf2df(mu[k:(k+K), :], max_vals)\n",
    "b2term_i, b2term_v= pmf2df(mu[(k+K):(k+2*K), :], max_vals)\n",
    "c1term_i, c1term_v= pmf2df(mu[(-2*K):(-K), :], max_vals)\n",
    "c2term_i, c2term_v = pmf2df(mu[(-K):, :], max_vals)\n",
    "map_inds_c1 = S.map_inds_c1\n",
    "map_inds_c2 = S.map_inds_c2\n",
    "mci1t = np.ones([k, Aq], float)/Aq;\n",
    "mci1t[map_inds_c1, :] = mci[::2]\n",
    "mci2t = np.ones([k, Aq], float)/Aq;\n",
    "mci2t[map_inds_c2, :] = mci[1::2]\n",
    "\n",
    "b_inds, b_vals = pmf2df(mbi, max_vals)\n",
    "c1_inds, c1_vals = pmf2df(mci1t, max_vals)\n",
    "c2_inds, c2_vals = pmf2df(mci2t, max_vals)\n",
    "Nd = np.min([max_vals, Aq])\n",
    "Nc = np.min([max_vals, Aq])\n",
    "\n",
    "c1_inds = np.vstack([c1_inds, c1term_i])\n",
    "c1_vals = np.vstack([c1_vals, c1term_v])\n",
    "c2_inds = np.vstack([c2_inds, c2term_i])\n",
    "c2_vals = np.vstack([c2_vals, c2term_v])\n",
    "\n",
    "in1_inds = b_inds\n",
    "in1_vals = b_vals\n"
   ]
  },
  {
   "cell_type": "code",
   "execution_count": 11,
   "metadata": {
    "collapsed": false
   },
   "outputs": [],
   "source": [
    "in1_inds = np.vstack([in1_inds, b1term_i])\n",
    "in1_vals = np.vstack([in1_vals, b1term_v])\n",
    "\n",
    "\n",
    "Nd = Aq\n",
    "Nc = Aq\n",
    "max_valsS = 64\n",
    "#out1_vals, out1_inds = S.F.update_lim(in1_inds, in1_vals, c1_inds, c1_vals, Nd, 50, Nc)\n",
    "#temp = np.vstack([VN2_update(out1_inds[i,:], b_inds[i,:], out1_vals[i,:], b_vals[i,:]) for i in range(k)])\n",
    "#in2_inds = temp[::2]\n",
    "#in2_vals = temp[1::2]\n",
    "#in2_inds = np.vstack([in2_inds[inter], b2term_i])\n",
    "#in2_vals = np.vstack([in2_vals[inter], b2term_v])\n",
    "#out2_vals, out2_inds = S.F.update_lim(in2_inds, in2_vals, c2_inds, c2_vals, Nd, 50, Nc)\n",
    "\n",
    "\n",
    "#out2_vals, out2_inds = S.F.update_lim(in2_inds, in2_vals, c2_inds, c2_vals, Nd, 50, Nc)\n",
    "#in1_inds = out2_inds[deinter]\n",
    "#in1_vals = out2_vals[deinter]\n",
    "#temp = np.vstack([VN2_update(in1_inds[i,:], b_inds[i,:], in1_vals[i,:], b_vals[i,:]) for i in range(k)])\n",
    "#in1_inds = temp[::2]\n",
    "#in1_vals = temp[1::2]"
   ]
  },
  {
   "cell_type": "code",
   "execution_count": 13,
   "metadata": {
    "collapsed": false
   },
   "outputs": [
    {
     "name": "stdout",
     "output_type": "stream",
     "text": [
      "[[ 0 -1  0  0  0  0  0  0]\n",
      " [16 48  0 32 -1  0  0  0]\n",
      " [52 20 36 60  4 48 28 44]\n",
      " [29 31  9 13 53 25 21 28]\n",
      " [51 35 19 50 49 59 54 38]\n",
      " [ 0 32  2 17 16  4 40 20]] [[  1.00000000e+00   0.00000000e+00   0.00000000e+00   0.00000000e+00\n",
      "    0.00000000e+00   0.00000000e+00   0.00000000e+00   0.00000000e+00]\n",
      " [  1.00000000e+00   1.77167841e-21   2.30454247e-31   4.08290813e-52\n",
      "    0.00000000e+00   0.00000000e+00   0.00000000e+00   0.00000000e+00]\n",
      " [  1.00000000e+00   1.25901855e-11   5.76150445e-13   1.77167841e-21\n",
      "    7.25384097e-24   2.30454247e-31   2.23057598e-32   1.02075330e-33]\n",
      " [  1.00000000e+00   1.77167841e-21   3.18756203e-23   6.53382154e-26\n",
      "    1.39061272e-26   6.80425258e-28   2.04034772e-28   2.30454247e-31]\n",
      " [  1.00000000e+00   2.40356055e-20   2.83569011e-25   6.80425258e-28\n",
      "    2.04034772e-28   8.42608118e-32   5.59323489e-33   4.36625705e-33]\n",
      " [  1.00000000e+00   4.58497991e-24   8.42608118e-32   4.36625705e-33\n",
      "    4.22347447e-33   9.30917244e-36   3.44519178e-36   2.62101418e-37]]\n"
     ]
    }
   ],
   "source": [
    "out1_vals, out1_inds = S.F.update_lim(in1_inds, in1_vals, c1_inds, c1_vals, 4, 8, 4)"
   ]
  },
  {
   "cell_type": "code",
   "execution_count": 12,
   "metadata": {
    "collapsed": false
   },
   "outputs": [
    {
     "name": "stdout",
     "output_type": "stream",
     "text": [
      "CPU times: user 2.66 s, sys: 4 ms, total: 2.66 s\n",
      "Wall time: 2.66 s\n"
     ]
    }
   ],
   "source": [
    "import _Sparse_Turbo_lib\n",
    "%time _Sparse_Turbo_lib.FSM_update_sparse_test(in1_inds, in1_vals, c1_inds, c1_vals, S.F.S, S.F.Q, S.F.S1, S.F.Q1, S.F.Qm1,16 , 4096, 16)\n",
    "#print in1_inds, in1_vals, c1_inds, c1_vals\n"
   ]
  },
  {
   "cell_type": "code",
   "execution_count": 30,
   "metadata": {
    "collapsed": false
   },
   "outputs": [],
   "source": [
    "temp = np.vstack([VN2_update(out1_inds[i,:], b_inds[i,:], out1_vals[i,:], b_vals[i,:]) for i in range(k)])\n",
    "in2_inds = temp[::2]\n",
    "in2_vals = temp[1::2]"
   ]
  },
  {
   "cell_type": "code",
   "execution_count": 34,
   "metadata": {
    "collapsed": false
   },
   "outputs": [
    {
     "data": {
      "text/plain": [
       "array([[ 0,  1,  2,  3,  4,  5,  6,  7,  8,  9, 10, 11, 12, 13, 14, 15],\n",
       "       [ 0,  1,  2,  5,  6,  9, -1,  0,  0,  0,  0,  0,  0,  0,  0,  0],\n",
       "       [ 0,  1,  2,  3,  4,  5,  6,  7, 11, 14, 15, -1,  0,  0,  0,  0],\n",
       "       [ 0,  1,  2,  3,  4,  5,  6,  7,  9, -1,  0,  0,  0,  0,  0,  0],\n",
       "       [ 0,  9, 10, 13, 14, -1,  0,  0,  0,  0,  0,  0,  0,  0,  0,  0],\n",
       "       [ 0,  4, -1,  0,  0,  0,  0,  0,  0,  0,  0,  0,  0,  0,  0,  0]])"
      ]
     },
     "execution_count": 34,
     "metadata": {},
     "output_type": "execute_result"
    }
   ],
   "source": [
    "np.int64(in2_inds)"
   ]
  },
  {
   "cell_type": "code",
   "execution_count": 51,
   "metadata": {
    "collapsed": false
   },
   "outputs": [],
   "source": []
  },
  {
   "cell_type": "code",
   "execution_count": 61,
   "metadata": {
    "collapsed": false
   },
   "outputs": [],
   "source": [
    "max_vals = 4\n",
    "k = S.k\n",
    "p = S.p\n",
    "inter = S.inter\n",
    "deinter = S.deinter\n",
    "mbi = mu[:k,:]\n",
    "mci = mu[k:,:]\n",
    "map_inds_c1 = S.map_inds_c1\n",
    "map_inds_c2 = S.map_inds_c2\n",
    "mci1t = np.ones([k, Aq], float)/Aq;\n",
    "mci1t[map_inds_c1, :] = mci[::2]\n",
    "mci2t = np.ones([k, Aq], float)/Aq;\n",
    "mci2t[map_inds_c2, :] = mci[1::2]\n"
   ]
  },
  {
   "cell_type": "code",
   "execution_count": 63,
   "metadata": {
    "collapsed": false
   },
   "outputs": [
    {
     "data": {
      "text/plain": [
       "array([  1.95219570e-18,   5.11322739e-01,   1.47449293e-30,\n",
       "         3.86201938e-13,   2.34503386e-14,   6.80569222e-29,\n",
       "         9.74557338e-01,   2.82833327e-15])"
      ]
     },
     "execution_count": 63,
     "metadata": {},
     "output_type": "execute_result"
    }
   ],
   "source": [
    "pc2 = mci2t.flatten()\n",
    "pc1 = mci1t.flatten()\n",
    "pd = mbi.flatten()"
   ]
  },
  {
   "cell_type": "code",
   "execution_count": 1,
   "metadata": {
    "collapsed": false
   },
   "outputs": [],
   "source": [
    "run Advandeced_Turbo_lib.py"
   ]
  },
  {
   "cell_type": "code",
   "execution_count": 5,
   "metadata": {
    "collapsed": true
   },
   "outputs": [],
   "source": [
    "def QAM(M): # 2**M QAM constellation\n",
    "    if M == 0:\n",
    "        return np.array([0])\n",
    "    odd = M % 2\n",
    "    base = (M - odd) / 2\n",
    "    min_Re = -2**(base+odd) + 1\n",
    "    max_Re = 2**(base+odd) - 1\n",
    "    min_Im = -2**base + 1\n",
    "    max_Im = 2**base - 1\n",
    "    const = np.asarray([i + 1j*j  for i in np.arange(min_Re, max_Re+1, 2)\\\n",
    "                                   for j in np.arange(min_Im, max_Im+1, 2)])\n",
    "    scale = np.sqrt((np.abs(const)**2).sum()/float(2**M))\n",
    "    return const / scale\n",
    "\n",
    "\n",
    "Nb = 2\n",
    "k = 5\n",
    "const = QAM(Nb)\n",
    "SNR = 12\n",
    "Aq = 2**Nb\n"
   ]
  },
  {
   "cell_type": "code",
   "execution_count": 6,
   "metadata": {
    "collapsed": true
   },
   "outputs": [],
   "source": [
    "SNR = 5\n",
    "S = Sparse_Turbo_Coder_MS(k, 5, 1./3, Aq, [], [])"
   ]
  },
  {
   "cell_type": "code",
   "execution_count": 7,
   "metadata": {
    "collapsed": false
   },
   "outputs": [
    {
     "name": "stdout",
     "output_type": "stream",
     "text": [
      "[1 3 2 0 3 1 3 0 3 1 2 3 0 3 3]\n",
      "15\n"
     ]
    }
   ],
   "source": [
    "#b = np.random.randint(Aq, size=k)\n",
    "b = np.array([1,3,2,0,3],int)\n",
    "c = S.encode(b)\n",
    "print c\n",
    "N = len(c)\n",
    "print len(c)\n",
    "s = const[c]\n",
    "(x, sigma2w) = AWGN(s, SNR)"
   ]
  },
  {
   "cell_type": "code",
   "execution_count": 5,
   "metadata": {
    "collapsed": false
   },
   "outputs": [],
   "source": [
    "mu = np.zeros([N, Aq])\n",
    "for i in range(Aq):\n",
    "    mu[:, i] = np.exp(-np.abs(x - const[i])**2/sigma2w)"
   ]
  },
  {
   "cell_type": "code",
   "execution_count": 6,
   "metadata": {
    "collapsed": true
   },
   "outputs": [],
   "source": [
    "Nc = Aq\n",
    "Nd = Aq\n",
    "Ns = Aq**3\n",
    "theta = 1e-8"
   ]
  },
  {
   "cell_type": "code",
   "execution_count": 7,
   "metadata": {
    "collapsed": false
   },
   "outputs": [],
   "source": [
    "max_vals = 4\n",
    "k = S.k\n",
    "p = S.p\n",
    "inter = S.inter\n",
    "deinter = S.deinter\n",
    "mbi = mu[:k,:]\n",
    "mci = mu[k:,:]\n",
    "map_inds_c1 = S.map_inds_c1\n",
    "map_inds_c2 = S.map_inds_c2\n",
    "mci1t = -np.ones([k, Aq], float);\n",
    "mci1t[map_inds_c1, :] = mci[::2]\n",
    "mci2t = -np.ones([k, Aq], float);\n",
    "mci2t[map_inds_c2, :] = mci[1::2]\n",
    "\n",
    "pc1 = mci1t.flatten()\n",
    "pc2 = mci2t.flatten()\n",
    "pd = mbi.flatten()\n",
    "res = np.zeros(k, int)\n",
    "inter = S.inter\n",
    "deinter = S.deinter"
   ]
  },
  {
   "cell_type": "code",
   "execution_count": null,
   "metadata": {
    "collapsed": false
   },
   "outputs": [],
   "source": [
    "_Sparse_Turbo_lib.turbo_decodeMS_func(pc1, pc2, pd, res, inter, deinter, S.K, S.k, Aq, Nc, Nd, Ns, theta)"
   ]
  },
  {
   "cell_type": "code",
   "execution_count": 1,
   "metadata": {
    "collapsed": false
   },
   "outputs": [],
   "source": [
    "run Advandeced_Turbo_lib.py"
   ]
  },
  {
   "cell_type": "code",
   "execution_count": 2,
   "metadata": {
    "collapsed": true
   },
   "outputs": [],
   "source": [
    "import _Turbo_lib\n",
    "import _Sparse_Turbo_lib"
   ]
  },
  {
   "cell_type": "code",
   "execution_count": 19,
   "metadata": {
    "collapsed": false
   },
   "outputs": [],
   "source": [
    "N = 4\n",
    "Aq = 2\n",
    "d = np.random.randint(Aq,size=N)\n",
    "c = np.zeros(N,int)\n",
    "_Sparse_Turbo_lib.FSM_sparse_encode_MS(d, c, Aq)\n",
    "SNR = 5\n"
   ]
  },
  {
   "cell_type": "code",
   "execution_count": 20,
   "metadata": {
    "collapsed": false
   },
   "outputs": [
    {
     "name": "stdout",
     "output_type": "stream",
     "text": [
      "[0 1 0 0] [0 1 1 1]\n"
     ]
    }
   ],
   "source": [
    "print c,d"
   ]
  },
  {
   "cell_type": "code",
   "execution_count": 21,
   "metadata": {
    "collapsed": true
   },
   "outputs": [],
   "source": [
    "def ASK_MOD(Aq):\n",
    "    Am = np.linspace(-1,1,Aq)\n",
    "    return Am / np.sqrt(np.sum(Am**2)/Aq)"
   ]
  },
  {
   "cell_type": "code",
   "execution_count": 22,
   "metadata": {
    "collapsed": false
   },
   "outputs": [],
   "source": [
    "const = ASK_MOD(Aq)\n",
    "s = np.hstack([const[d], const[c]])\n",
    "(x, sigma2w) = AWGN(s, SNR)"
   ]
  },
  {
   "cell_type": "code",
   "execution_count": 23,
   "metadata": {
    "collapsed": true
   },
   "outputs": [],
   "source": [
    "mud = np.zeros([N, Aq], float)\n",
    "muc = np.zeros([N, Aq], float)\n",
    "pout = np.zeros([N, Aq], float)\n",
    "Rxx = np.zeros([Aq,Aq])\n",
    "for i in range(Aq):\n",
    "    mud[:,i] = np.exp(-np.abs(x[:N] - const[i])**2/sigma2w)\n",
    "    muc[:,i] = np.exp(-np.abs(x[N:] - const[i])**2/sigma2w)"
   ]
  },
  {
   "cell_type": "code",
   "execution_count": 18,
   "metadata": {
    "collapsed": false
   },
   "outputs": [
    {
     "name": "stdout",
     "output_type": "stream",
     "text": [
      "0 0 0 0 0 0 (5, 8)\n",
      "0 0 0 1 1 0 (5, 8)\n",
      "lost track\n",
      "0 0 0 0 0 0 (5, 8)\n",
      "0 1 0 0 0 2 (5, 8)\n",
      "1 0 1 0 0 5 (5, 8)\n",
      "1 1 1 0 0 7 (5, 8)\n",
      "[[ 1.     0.     0.     0.     0.     0.     0.     0.   ]\n",
      " [ 1.     0.     0.     0.     0.     0.     0.     0.   ]\n",
      " [ 1.     0.     0.     0.     0.     0.     0.     0.   ]\n",
      " [ 0.125  0.125  0.125  0.125  0.125  0.125  0.125  0.125]\n",
      " [ 0.25   0.     0.25   0.     0.     0.25   0.     0.25 ]]\n"
     ]
    }
   ],
   "source": [
    "_Sparse_Turbo_lib.FSM_update_eff(mud, muc, pout,1e-3)"
   ]
  },
  {
   "cell_type": "code",
   "execution_count": 17,
   "metadata": {
    "collapsed": false
   },
   "outputs": [
    {
     "name": "stdout",
     "output_type": "stream",
     "text": [
      "CPU times: user 35.3 s, sys: 129 ms, total: 35.4 s\n",
      "Wall time: 35.4 s\n"
     ]
    }
   ],
   "source": [
    "%time _Sparse_Turbo_lib.FSM_update_ref_simple_Rxx(mud, muc, pout, Rxx)"
   ]
  },
  {
   "cell_type": "code",
   "execution_count": 18,
   "metadata": {
    "collapsed": false
   },
   "outputs": [
    {
     "data": {
      "text/plain": [
       "4127"
      ]
     },
     "execution_count": 18,
     "metadata": {},
     "output_type": "execute_result"
    }
   ],
   "source": [
    "np.sum(np.argmax(pout, axis=1) != d)"
   ]
  },
  {
   "cell_type": "code",
   "execution_count": 19,
   "metadata": {
    "collapsed": false
   },
   "outputs": [],
   "source": [
    "v,w = np.linalg.eig(Rxx)"
   ]
  },
  {
   "cell_type": "code",
   "execution_count": 24,
   "metadata": {
    "collapsed": false
   },
   "outputs": [],
   "source": [
    "#plt.plot(np.sort(v),'r-')\n",
    "plt.plot(w[np.argsort(v)[-1],:],'k-')\n",
    "plt.show()"
   ]
  },
  {
   "cell_type": "code",
   "execution_count": 24,
   "metadata": {
    "collapsed": true
   },
   "outputs": [],
   "source": [
    "mudf = mud.flatten()\n",
    "mucf = muc.flatten()\n",
    "poutf = np.zeros(len(mudf))\n",
    "S = np.zeros([Aq,Aq**3], int)\n",
    "Q = np.zeros([Aq,Aq**3], int)\n",
    "_Turbo_lib.create_matrix_SQ_MS_mod(S,Q)"
   ]
  },
  {
   "cell_type": "code",
   "execution_count": 25,
   "metadata": {
    "collapsed": false
   },
   "outputs": [],
   "source": [
    "_Turbo_lib.update_general_FSM_func(mucf, mudf, poutf, S, Q)"
   ]
  },
  {
   "cell_type": "code",
   "execution_count": 11,
   "metadata": {
    "collapsed": false
   },
   "outputs": [
    {
     "data": {
      "text/plain": [
       "0.00062305218272173946"
      ]
     },
     "execution_count": 11,
     "metadata": {},
     "output_type": "execute_result"
    }
   ],
   "source": [
    "np.max(poutf.reshape(N,Aq)-pout)"
   ]
  },
  {
   "cell_type": "code",
   "execution_count": 32,
   "metadata": {
    "collapsed": true
   },
   "outputs": [],
   "source": [
    "Rxx = np.zeros([Aq,Aq])\n",
    "for i in range(N):\n",
    "    vec = np.asarray([mud[i,:]])\n",
    "    Rxx += np.dot(vec.T,vec)/float(N)\n"
   ]
  },
  {
   "cell_type": "code",
   "execution_count": 33,
   "metadata": {
    "collapsed": true
   },
   "outputs": [],
   "source": [
    "v,w = np.linalg.eig(Rxx)"
   ]
  },
  {
   "cell_type": "code",
   "execution_count": 39,
   "metadata": {
    "collapsed": false
   },
   "outputs": [],
   "source": [
    "#plt.plot(np.sort(v),'r-')\n",
    "plt.plot(w[:,np.argsort(v)[-4]],'k-')\n",
    "plt.show()"
   ]
  },
  {
   "cell_type": "code",
   "execution_count": null,
   "metadata": {
    "collapsed": true
   },
   "outputs": [],
   "source": [
    "_Turbo_lib.update_FSM_func"
   ]
  }
 ],
 "metadata": {
  "kernelspec": {
   "display_name": "Python 2",
   "language": "python",
   "name": "python2"
  },
  "language_info": {
   "codemirror_mode": {
    "name": "ipython",
    "version": 2
   },
   "file_extension": ".py",
   "mimetype": "text/x-python",
   "name": "python",
   "nbconvert_exporter": "python",
   "pygments_lexer": "ipython2",
   "version": "2.7.10"
  }
 },
 "nbformat": 4,
 "nbformat_minor": 0
}
