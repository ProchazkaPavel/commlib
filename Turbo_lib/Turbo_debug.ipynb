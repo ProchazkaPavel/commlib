{
 "cells": [
  {
   "cell_type": "code",
   "execution_count": 1,
   "metadata": {},
   "outputs": [],
   "source": [
    "import numpy as np"
   ]
  },
  {
   "cell_type": "code",
   "execution_count": 2,
   "metadata": {},
   "outputs": [],
   "source": [
    "import sys\n",
    "import time"
   ]
  },
  {
   "cell_type": "code",
   "execution_count": 3,
   "metadata": {},
   "outputs": [],
   "source": [
    "sys.path.append('../LDPC_lib')"
   ]
  },
  {
   "cell_type": "code",
   "execution_count": 16,
   "metadata": {},
   "outputs": [],
   "source": [
    "import Turbo_lib\n",
    "import _Turbo_lib\n",
    "from rew import AWGN"
   ]
  },
  {
   "cell_type": "code",
   "execution_count": 5,
   "metadata": {},
   "outputs": [],
   "source": [
    "F = Turbo_lib.FSM()"
   ]
  },
  {
   "cell_type": "code",
   "execution_count": 6,
   "metadata": {},
   "outputs": [
    {
     "name": "stdout",
     "output_type": "stream",
     "text": [
      "Nerr uncoded:0, \t Nerr coded:0, \t Time ref:0.000758\n",
      "Nerr coded2:0, \t Time coded2:0.001329\n"
     ]
    },
    {
     "data": {
      "text/plain": [
       "(0, 0)"
      ]
     },
     "execution_count": 6,
     "metadata": {},
     "output_type": "execute_result"
    }
   ],
   "source": [
    "F.test()"
   ]
  },
  {
   "cell_type": "code",
   "execution_count": 7,
   "metadata": {},
   "outputs": [
    {
     "data": {
      "text/plain": [
       "{'S': array([[0, 1],\n",
       "        [1, 0]]),\n",
       " 'Q': array([[0, 1],\n",
       "        [1, 0]]),\n",
       " 'Md': 2,\n",
       " 'Ms': 2,\n",
       " 'K': 1,\n",
       " 'Mc': 2}"
      ]
     },
     "execution_count": 7,
     "metadata": {},
     "output_type": "execute_result"
    }
   ],
   "source": [
    "F.__dict__"
   ]
  },
  {
   "cell_type": "code",
   "execution_count": 27,
   "metadata": {},
   "outputs": [],
   "source": [
    "l = 5000000\n",
    "SNR = 3\n",
    "d = np.random.randint(2, size=l)\n",
    "c = F.encode(d)\n",
    "s = 2*c - 1 # BPSK\n",
    "(x, sigma2w) = AWGN(s, SNR)\n",
    "mu = np.zeros([l, 2])\n",
    "mu[:,0] = np.exp(-np.abs(x + 1)**2/sigma2w)\n",
    "mu[:,1] = np.exp(-np.abs(x - 1)**2/sigma2w)\n",
    "\n",
    "pd = np.ones(l*2, float)/2  # no a priory knowledge\n",
    "pc = mu.flatten() # observation\n"
   ]
  },
  {
   "cell_type": "code",
   "execution_count": 28,
   "metadata": {},
   "outputs": [],
   "source": [
    "out = np.zeros(pd.shape)"
   ]
  },
  {
   "cell_type": "code",
   "execution_count": 15,
   "metadata": {},
   "outputs": [
    {
     "data": {
      "text/plain": [
       "(array([0.5, 0.5, 0.5, 0.5, 0.5, 0.5, 0.5, 0.5, 0.5, 0.5]),\n",
       " array([8.86141056e-04, 9.99113859e-01, 9.80849954e-01, 1.91500463e-02,\n",
       "        1.97454962e-02, 9.80254504e-01, 1.09842603e-02, 9.89015740e-01,\n",
       "        9.90455173e-01, 9.54482656e-03]))"
      ]
     },
     "execution_count": 15,
     "metadata": {},
     "output_type": "execute_result"
    }
   ],
   "source": [
    "F.update_both(pc, pd)"
   ]
  },
  {
   "cell_type": "code",
   "execution_count": 34,
   "metadata": {},
   "outputs": [],
   "source": [
    "out = np.zeros_like(mu)"
   ]
  },
  {
   "cell_type": "code",
   "execution_count": 35,
   "metadata": {},
   "outputs": [
    {
     "data": {
      "text/plain": [
       "(5000000, 2)"
      ]
     },
     "execution_count": 35,
     "metadata": {},
     "output_type": "execute_result"
    }
   ],
   "source": [
    "out.shape"
   ]
  },
  {
   "cell_type": "code",
   "execution_count": 50,
   "metadata": {},
   "outputs": [],
   "source": [
    "def update_general_FSM_python(pc, pd, out, S, Q, Md, Ms, Mc, N):\n",
    "    lf = np.zeros([N + 1, Ms], dtype=float)\n",
    "    lb = np.zeros([N + 1, Ms], dtype=float)\n",
    "    \n",
    "    lf[0,0] = 1;\n",
    "    for i in range(1, Ms):\n",
    "        lf[0,i] = 0 # 0 zero initial state\n",
    "\n",
    "    for i in range(Ms):\n",
    "        lb[N,i] = 1./Ms # unknown final state\n",
    "        \n",
    "    for i in range(N): # Forward\n",
    "        for j in range(Ms):\n",
    "            for k in range(Md):\n",
    "                lf[i + 1, S[k, j]] += lf[i, j] * pd[i,k]*pc[i,Q[k,j]]\n",
    "        m = 0\n",
    "        for j in range(Ms):\n",
    "            m += lf[i + 1, j]\n",
    "        m = 1./m\n",
    "        for j in range(Ms):\n",
    "            lf[i + 1, j] = lf[i + 1, j] * m\n",
    "\n",
    "#    lf[i + 1, :] = lf[i + 1, :] / (lf[i + 1, :]).sum()  # Norming\n",
    "\n",
    "    for index in range(N): # Backward\n",
    "        for j in range(Ms):\n",
    "            for k in range(Md):\n",
    "                i = N - 1 - index\n",
    "                lb[i, j] += lb[i + 1, S[k, j]] * pc[i ,Q[k, j]] * pd[i, k]\n",
    "            m = 0\n",
    "            for j in range(Ms):\n",
    "                m += lb[i, j]\n",
    "            m = 1./m\n",
    "        for j in range(Ms):\n",
    "            lb[i, j] = lb[i, j] * m\n",
    "            \n",
    "    for i in range(N): # To data\n",
    "        for j in range(Ms):\n",
    "            for k in range(Md):\n",
    "                out[i, k] += lb[i+1, S[k, j]] * pc[i, Q[k, j]] * lf[i, j]\n",
    "            m = 0\n",
    "            for k in range(Md):\n",
    "                m += out[i, k]\n",
    "            m = 1./m\n",
    "            for k in range(Md):\n",
    "                out[i, k] = out[i, k] * m\n"
   ]
  },
  {
   "cell_type": "code",
   "execution_count": 53,
   "metadata": {},
   "outputs": [],
   "source": [
    "#%timeit update_general_FSM_python(mu, mu, out, np.uint32(F.S), np.uint32(F.Q),np.uint32(2),np.uint32(2),np.uint32(2), np.uint32(len(mu)))\n"
   ]
  },
  {
   "cell_type": "code",
   "execution_count": 54,
   "metadata": {},
   "outputs": [],
   "source": [
    "%load_ext pythran.magic"
   ]
  },
  {
   "cell_type": "code",
   "execution_count": 62,
   "metadata": {},
   "outputs": [],
   "source": [
    "def update_general_FSM_python(pc, pd, out, S, Q, Md, Ms, Mc, N):\n",
    "    lf = np.zeros([N + 1, Ms], dtype=float)\n",
    "    lb = np.zeros([N + 1, Ms], dtype=float)\n",
    "    \n",
    "    lf[0,0] = 1;\n",
    "    for i in range(1, Ms):\n",
    "        lf[0,i] = 0 # 0 zero initial state\n",
    "\n",
    "    for i in range(Ms):\n",
    "        lb[N,i] = 1./Ms # unknown final state\n",
    "        \n",
    "    for i in range(N): # Forward\n",
    "        for j in range(Ms):\n",
    "            for k in range(Md):\n",
    "                lf[i + 1, S[k, j]] += lf[i, j] * pd[i,k]*pc[i,Q[k,j]]\n",
    "        m = 0\n",
    "        for j in range(Ms):\n",
    "            m += lf[i + 1, j]\n",
    "        m = 1./m\n",
    "        for j in range(Ms):\n",
    "            lf[i + 1, j] = lf[i + 1, j] * m\n",
    "\n",
    "#    lf[i + 1, :] = lf[i + 1, :] / (lf[i + 1, :]).sum()  # Norming\n",
    "\n",
    "    for index in range(N): # Backward\n",
    "        for j in range(Ms):\n",
    "            for k in range(Md):\n",
    "                i = N - 1 - index\n",
    "                lb[i, j] += lb[i + 1, S[k, j]] * pc[i ,Q[k, j]] * pd[i, k]\n",
    "            m = 0\n",
    "            for j in range(Ms):\n",
    "                m += lb[i, j]\n",
    "            m = 1./m\n",
    "        for j in range(Ms):\n",
    "            lb[i, j] = lb[i, j] * m\n",
    "            \n",
    "    for i in range(N): # To data\n",
    "        for j in range(Ms):\n",
    "            for k in range(Md):\n",
    "                out[i, k] += lb[i+1, S[k, j]] * pc[i, Q[k, j]] * lf[i, j]\n",
    "            m = 0\n",
    "            for k in range(Md):\n",
    "                m += out[i, k]\n",
    "            m = 1./m\n",
    "            for k in range(Md):\n",
    "                out[i, k] = out[i, k] * m\n",
    "    return out"
   ]
  },
  {
   "cell_type": "code",
   "execution_count": 58,
   "metadata": {},
   "outputs": [],
   "source": [
    "from numba import jit"
   ]
  },
  {
   "cell_type": "code",
   "execution_count": 61,
   "metadata": {},
   "outputs": [],
   "source": [
    "@jit\n",
    "def update_general_FSM_numba(pc, pd, out, S, Q, Md, Ms, Mc, N):\n",
    "    lf = np.zeros([N + 1, Ms], dtype=float)\n",
    "    lb = np.zeros([N + 1, Ms], dtype=float)\n",
    "    \n",
    "    lf[0,0] = 1;\n",
    "    for i in range(1, Ms):\n",
    "        lf[0,i] = 0 # 0 zero initial state\n",
    "\n",
    "    for i in range(Ms):\n",
    "        lb[N,i] = 1./Ms # unknown final state\n",
    "        \n",
    "    for i in range(N): # Forward\n",
    "        for j in range(Ms):\n",
    "            for k in range(Md):\n",
    "                lf[i + 1, S[k, j]] += lf[i, j] * pd[i,k]*pc[i,Q[k,j]]\n",
    "        m = 0\n",
    "        for j in range(Ms):\n",
    "            m += lf[i + 1, j]\n",
    "        m = 1./m\n",
    "        for j in range(Ms):\n",
    "            lf[i + 1, j] = lf[i + 1, j] * m\n",
    "\n",
    "#    lf[i + 1, :] = lf[i + 1, :] / (lf[i + 1, :]).sum()  # Norming\n",
    "\n",
    "    for index in range(N): # Backward\n",
    "        for j in range(Ms):\n",
    "            for k in range(Md):\n",
    "                i = N - 1 - index\n",
    "                lb[i, j] += lb[i + 1, S[k, j]] * pc[i ,Q[k, j]] * pd[i, k]\n",
    "            m = 0\n",
    "            for j in range(Ms):\n",
    "                m += lb[i, j]\n",
    "            m = 1./m\n",
    "        for j in range(Ms):\n",
    "            lb[i, j] = lb[i, j] * m\n",
    "            \n",
    "    for i in range(N): # To data\n",
    "        for j in range(Ms):\n",
    "            for k in range(Md):\n",
    "                out[i, k] += lb[i+1, S[k, j]] * pc[i, Q[k, j]] * lf[i, j]\n",
    "            m = 0\n",
    "            for k in range(Md):\n",
    "                m += out[i, k]\n",
    "            m = 1./m\n",
    "            for k in range(Md):\n",
    "                out[i, k] = out[i, k] * m\n"
   ]
  },
  {
   "cell_type": "code",
   "execution_count": 63,
   "metadata": {},
   "outputs": [
    {
     "name": "stderr",
     "output_type": "stream",
     "text": [
      "<ipython-input-61-095c4e336809>:1: NumbaWarning: \n",
      "Compilation is falling back to object mode WITH looplifting enabled because Function \"update_general_FSM_numba\" failed type inference due to: No implementation of function Function(<built-in function zeros>) found for signature:\n",
      " \n",
      " >>> zeros(list(int64)<iv=None>, dtype=Function(<class 'float'>))\n",
      " \n",
      "There are 2 candidate implementations:\n",
      "     - Of which 2 did not match due to:\n",
      "     Overload of function 'zeros': File: numba/core/typing/npydecl.py: Line 504.\n",
      "       With argument(s): '(list(int64)<iv=None>, dtype=Function(<class 'float'>))':\n",
      "      No match.\n",
      "\n",
      "During: resolving callee type: Function(<built-in function zeros>)\n",
      "During: typing of call at <ipython-input-61-095c4e336809> (3)\n",
      "\n",
      "\n",
      "File \"<ipython-input-61-095c4e336809>\", line 3:\n",
      "def update_general_FSM_numba(pc, pd, out, S, Q, Md, Ms, Mc, N):\n",
      "    lf = np.zeros([N + 1, Ms], dtype=float)\n",
      "    ^\n",
      "\n",
      "  @jit\n",
      "<ipython-input-61-095c4e336809>:1: NumbaWarning: \n",
      "Compilation is falling back to object mode WITHOUT looplifting enabled because Function \"update_general_FSM_numba\" failed type inference due to: cannot determine Numba type of <class 'numba.core.dispatcher.LiftedLoop'>\n",
      "\n",
      "File \"<ipython-input-61-095c4e336809>\", line 7:\n",
      "def update_general_FSM_numba(pc, pd, out, S, Q, Md, Ms, Mc, N):\n",
      "    <source elided>\n",
      "    lf[0,0] = 1;\n",
      "    for i in range(1, Ms):\n",
      "    ^\n",
      "\n",
      "  @jit\n",
      "/home/pajin/miniconda3/envs/py3.6/lib/python3.7/site-packages/numba/core/object_mode_passes.py:178: NumbaWarning: Function \"update_general_FSM_numba\" was compiled in object mode without forceobj=True, but has lifted loops.\n",
      "\n",
      "File \"<ipython-input-61-095c4e336809>\", line 3:\n",
      "def update_general_FSM_numba(pc, pd, out, S, Q, Md, Ms, Mc, N):\n",
      "    lf = np.zeros([N + 1, Ms], dtype=float)\n",
      "    ^\n",
      "\n",
      "  state.func_ir.loc))\n",
      "/home/pajin/miniconda3/envs/py3.6/lib/python3.7/site-packages/numba/core/object_mode_passes.py:188: NumbaDeprecationWarning: \n",
      "Fall-back from the nopython compilation path to the object mode compilation path has been detected, this is deprecated behaviour.\n",
      "\n",
      "For more information visit https://numba.pydata.org/numba-doc/latest/reference/deprecation.html#deprecation-of-object-mode-fall-back-behaviour-when-using-jit\n",
      "\n",
      "File \"<ipython-input-61-095c4e336809>\", line 3:\n",
      "def update_general_FSM_numba(pc, pd, out, S, Q, Md, Ms, Mc, N):\n",
      "    lf = np.zeros([N + 1, Ms], dtype=float)\n",
      "    ^\n",
      "\n",
      "  state.func_ir.loc))\n",
      "<ipython-input-61-095c4e336809>:1: NumbaWarning: \n",
      "Compilation is falling back to object mode WITHOUT looplifting enabled because Function \"update_general_FSM_numba\" failed type inference due to: No implementation of function Function(<built-in function setitem>) found for signature:\n",
      " \n",
      " >>> setitem(array(float64, 2d, C), Tuple(uint32, float64), float64)\n",
      " \n",
      "There are 16 candidate implementations:\n",
      "  - Of which 14 did not match due to:\n",
      "  Overload of function 'setitem': File: <numerous>: Line N/A.\n",
      "    With argument(s): '(array(float64, 2d, C), Tuple(uint32, float64), float64)':\n",
      "   No match.\n",
      "  - Of which 2 did not match due to:\n",
      "  Overload in function 'SetItemBuffer.generic': File: numba/core/typing/arraydecl.py: Line 171.\n",
      "    With argument(s): '(array(float64, 2d, C), Tuple(uint32, float64), float64)':\n",
      "   Rejected as the implementation raised a specific error:\n",
      "     TypeError: unsupported array index type float64 in Tuple(uint32, float64)\n",
      "  raised from /home/pajin/miniconda3/envs/py3.6/lib/python3.7/site-packages/numba/core/typing/arraydecl.py:69\n",
      "\n",
      "During: typing of setitem at <ipython-input-61-095c4e336809> (11)\n",
      "\n",
      "File \"<ipython-input-61-095c4e336809>\", line 11:\n",
      "def update_general_FSM_numba(pc, pd, out, S, Q, Md, Ms, Mc, N):\n",
      "    <source elided>\n",
      "    for i in range(Ms):\n",
      "        lb[N,i] = 1./Ms # unknown final state\n",
      "        ^\n",
      "\n",
      "  @jit\n",
      "/home/pajin/miniconda3/envs/py3.6/lib/python3.7/site-packages/numba/core/object_mode_passes.py:178: NumbaWarning: Function \"update_general_FSM_numba\" was compiled in object mode without forceobj=True.\n",
      "\n",
      "File \"<ipython-input-61-095c4e336809>\", line 10:\n",
      "def update_general_FSM_numba(pc, pd, out, S, Q, Md, Ms, Mc, N):\n",
      "    <source elided>\n",
      "\n",
      "    for i in range(Ms):\n",
      "    ^\n",
      "\n",
      "  state.func_ir.loc))\n",
      "/home/pajin/miniconda3/envs/py3.6/lib/python3.7/site-packages/numba/core/object_mode_passes.py:188: NumbaDeprecationWarning: \n",
      "Fall-back from the nopython compilation path to the object mode compilation path has been detected, this is deprecated behaviour.\n",
      "\n",
      "For more information visit https://numba.pydata.org/numba-doc/latest/reference/deprecation.html#deprecation-of-object-mode-fall-back-behaviour-when-using-jit\n",
      "\n",
      "File \"<ipython-input-61-095c4e336809>\", line 10:\n",
      "def update_general_FSM_numba(pc, pd, out, S, Q, Md, Ms, Mc, N):\n",
      "    <source elided>\n",
      "\n",
      "    for i in range(Ms):\n",
      "    ^\n",
      "\n",
      "  state.func_ir.loc))\n",
      "<ipython-input-61-095c4e336809>:1: NumbaWarning: \n",
      "Compilation is falling back to object mode WITHOUT looplifting enabled because Function \"update_general_FSM_numba\" failed type inference due to: No implementation of function Function(<built-in function getitem>) found for signature:\n",
      " \n",
      " >>> getitem(array(float64, 2d, C), Tuple(float64, uint32))\n",
      " \n",
      "There are 22 candidate implementations:\n",
      "      - Of which 20 did not match due to:\n",
      "      Overload of function 'getitem': File: <numerous>: Line N/A.\n",
      "        With argument(s): '(array(float64, 2d, C), Tuple(float64, uint32))':\n",
      "       No match.\n",
      "      - Of which 2 did not match due to:\n",
      "      Overload in function 'GetItemBuffer.generic': File: numba/core/typing/arraydecl.py: Line 162.\n",
      "        With argument(s): '(array(float64, 2d, C), Tuple(float64, uint32))':\n",
      "       Rejected as the implementation raised a specific error:\n",
      "         TypeError: unsupported array index type float64 in Tuple(float64, uint32)\n",
      "  raised from /home/pajin/miniconda3/envs/py3.6/lib/python3.7/site-packages/numba/core/typing/arraydecl.py:69\n",
      "\n",
      "During: typing of intrinsic-call at <ipython-input-61-095c4e336809> (16)\n",
      "\n",
      "File \"<ipython-input-61-095c4e336809>\", line 16:\n",
      "def update_general_FSM_numba(pc, pd, out, S, Q, Md, Ms, Mc, N):\n",
      "    <source elided>\n",
      "            for k in range(Md):\n",
      "                lf[i + 1, S[k, j]] += lf[i, j] * pd[i,k]*pc[i,Q[k,j]]\n",
      "                ^\n",
      "\n",
      "  @jit\n",
      "/home/pajin/miniconda3/envs/py3.6/lib/python3.7/site-packages/numba/core/object_mode_passes.py:178: NumbaWarning: Function \"update_general_FSM_numba\" was compiled in object mode without forceobj=True.\n",
      "\n",
      "File \"<ipython-input-61-095c4e336809>\", line 13:\n",
      "def update_general_FSM_numba(pc, pd, out, S, Q, Md, Ms, Mc, N):\n",
      "    <source elided>\n",
      "        \n",
      "    for i in range(N): # Forward\n",
      "    ^\n",
      "\n",
      "  state.func_ir.loc))\n",
      "/home/pajin/miniconda3/envs/py3.6/lib/python3.7/site-packages/numba/core/object_mode_passes.py:188: NumbaDeprecationWarning: \n",
      "Fall-back from the nopython compilation path to the object mode compilation path has been detected, this is deprecated behaviour.\n",
      "\n",
      "For more information visit https://numba.pydata.org/numba-doc/latest/reference/deprecation.html#deprecation-of-object-mode-fall-back-behaviour-when-using-jit\n",
      "\n",
      "File \"<ipython-input-61-095c4e336809>\", line 13:\n",
      "def update_general_FSM_numba(pc, pd, out, S, Q, Md, Ms, Mc, N):\n",
      "    <source elided>\n",
      "        \n",
      "    for i in range(N): # Forward\n",
      "    ^\n",
      "\n",
      "  state.func_ir.loc))\n"
     ]
    },
    {
     "ename": "KeyboardInterrupt",
     "evalue": "",
     "output_type": "error",
     "traceback": [
      "\u001b[0;31m---------------------------------------------------------------------------\u001b[0m",
      "\u001b[0;31mKeyboardInterrupt\u001b[0m                         Traceback (most recent call last)",
      "\u001b[0;32m<ipython-input-63-bc1f328926e7>\u001b[0m in \u001b[0;36m<module>\u001b[0;34m\u001b[0m\n\u001b[0;32m----> 1\u001b[0;31m \u001b[0mget_ipython\u001b[0m\u001b[0;34m(\u001b[0m\u001b[0;34m)\u001b[0m\u001b[0;34m.\u001b[0m\u001b[0mrun_line_magic\u001b[0m\u001b[0;34m(\u001b[0m\u001b[0;34m'timeit'\u001b[0m\u001b[0;34m,\u001b[0m \u001b[0;34m'update_general_FSM_numba(mu, mu, out, np.uint32(F.S), np.uint32(F.Q),np.uint32(2),np.uint32(2),np.uint32(2), np.uint32(len(mu)))'\u001b[0m\u001b[0;34m)\u001b[0m\u001b[0;34m\u001b[0m\u001b[0;34m\u001b[0m\u001b[0m\n\u001b[0m",
      "\u001b[0;32m~/miniconda3/envs/py3.6/lib/python3.7/site-packages/IPython/core/interactiveshell.py\u001b[0m in \u001b[0;36mrun_line_magic\u001b[0;34m(self, magic_name, line, _stack_depth)\u001b[0m\n\u001b[1;32m   2325\u001b[0m                 \u001b[0mkwargs\u001b[0m\u001b[0;34m[\u001b[0m\u001b[0;34m'local_ns'\u001b[0m\u001b[0;34m]\u001b[0m \u001b[0;34m=\u001b[0m \u001b[0mself\u001b[0m\u001b[0;34m.\u001b[0m\u001b[0mget_local_scope\u001b[0m\u001b[0;34m(\u001b[0m\u001b[0mstack_depth\u001b[0m\u001b[0;34m)\u001b[0m\u001b[0;34m\u001b[0m\u001b[0;34m\u001b[0m\u001b[0m\n\u001b[1;32m   2326\u001b[0m             \u001b[0;32mwith\u001b[0m \u001b[0mself\u001b[0m\u001b[0;34m.\u001b[0m\u001b[0mbuiltin_trap\u001b[0m\u001b[0;34m:\u001b[0m\u001b[0;34m\u001b[0m\u001b[0;34m\u001b[0m\u001b[0m\n\u001b[0;32m-> 2327\u001b[0;31m                 \u001b[0mresult\u001b[0m \u001b[0;34m=\u001b[0m \u001b[0mfn\u001b[0m\u001b[0;34m(\u001b[0m\u001b[0;34m*\u001b[0m\u001b[0margs\u001b[0m\u001b[0;34m,\u001b[0m \u001b[0;34m**\u001b[0m\u001b[0mkwargs\u001b[0m\u001b[0;34m)\u001b[0m\u001b[0;34m\u001b[0m\u001b[0;34m\u001b[0m\u001b[0m\n\u001b[0m\u001b[1;32m   2328\u001b[0m             \u001b[0;32mreturn\u001b[0m \u001b[0mresult\u001b[0m\u001b[0;34m\u001b[0m\u001b[0;34m\u001b[0m\u001b[0m\n\u001b[1;32m   2329\u001b[0m \u001b[0;34m\u001b[0m\u001b[0m\n",
      "\u001b[0;32m<decorator-gen-53>\u001b[0m in \u001b[0;36mtimeit\u001b[0;34m(self, line, cell, local_ns)\u001b[0m\n",
      "\u001b[0;32m~/miniconda3/envs/py3.6/lib/python3.7/site-packages/IPython/core/magic.py\u001b[0m in \u001b[0;36m<lambda>\u001b[0;34m(f, *a, **k)\u001b[0m\n\u001b[1;32m    185\u001b[0m     \u001b[0;31m# but it's overkill for just that one bit of state.\u001b[0m\u001b[0;34m\u001b[0m\u001b[0;34m\u001b[0m\u001b[0;34m\u001b[0m\u001b[0m\n\u001b[1;32m    186\u001b[0m     \u001b[0;32mdef\u001b[0m \u001b[0mmagic_deco\u001b[0m\u001b[0;34m(\u001b[0m\u001b[0marg\u001b[0m\u001b[0;34m)\u001b[0m\u001b[0;34m:\u001b[0m\u001b[0;34m\u001b[0m\u001b[0;34m\u001b[0m\u001b[0m\n\u001b[0;32m--> 187\u001b[0;31m         \u001b[0mcall\u001b[0m \u001b[0;34m=\u001b[0m \u001b[0;32mlambda\u001b[0m \u001b[0mf\u001b[0m\u001b[0;34m,\u001b[0m \u001b[0;34m*\u001b[0m\u001b[0ma\u001b[0m\u001b[0;34m,\u001b[0m \u001b[0;34m**\u001b[0m\u001b[0mk\u001b[0m\u001b[0;34m:\u001b[0m \u001b[0mf\u001b[0m\u001b[0;34m(\u001b[0m\u001b[0;34m*\u001b[0m\u001b[0ma\u001b[0m\u001b[0;34m,\u001b[0m \u001b[0;34m**\u001b[0m\u001b[0mk\u001b[0m\u001b[0;34m)\u001b[0m\u001b[0;34m\u001b[0m\u001b[0;34m\u001b[0m\u001b[0m\n\u001b[0m\u001b[1;32m    188\u001b[0m \u001b[0;34m\u001b[0m\u001b[0m\n\u001b[1;32m    189\u001b[0m         \u001b[0;32mif\u001b[0m \u001b[0mcallable\u001b[0m\u001b[0;34m(\u001b[0m\u001b[0marg\u001b[0m\u001b[0;34m)\u001b[0m\u001b[0;34m:\u001b[0m\u001b[0;34m\u001b[0m\u001b[0;34m\u001b[0m\u001b[0m\n",
      "\u001b[0;32m~/miniconda3/envs/py3.6/lib/python3.7/site-packages/IPython/core/magics/execution.py\u001b[0m in \u001b[0;36mtimeit\u001b[0;34m(self, line, cell, local_ns)\u001b[0m\n\u001b[1;32m   1171\u001b[0m                     \u001b[0;32mbreak\u001b[0m\u001b[0;34m\u001b[0m\u001b[0;34m\u001b[0m\u001b[0m\n\u001b[1;32m   1172\u001b[0m \u001b[0;34m\u001b[0m\u001b[0m\n\u001b[0;32m-> 1173\u001b[0;31m         \u001b[0mall_runs\u001b[0m \u001b[0;34m=\u001b[0m \u001b[0mtimer\u001b[0m\u001b[0;34m.\u001b[0m\u001b[0mrepeat\u001b[0m\u001b[0;34m(\u001b[0m\u001b[0mrepeat\u001b[0m\u001b[0;34m,\u001b[0m \u001b[0mnumber\u001b[0m\u001b[0;34m)\u001b[0m\u001b[0;34m\u001b[0m\u001b[0;34m\u001b[0m\u001b[0m\n\u001b[0m\u001b[1;32m   1174\u001b[0m         \u001b[0mbest\u001b[0m \u001b[0;34m=\u001b[0m \u001b[0mmin\u001b[0m\u001b[0;34m(\u001b[0m\u001b[0mall_runs\u001b[0m\u001b[0;34m)\u001b[0m \u001b[0;34m/\u001b[0m \u001b[0mnumber\u001b[0m\u001b[0;34m\u001b[0m\u001b[0;34m\u001b[0m\u001b[0m\n\u001b[1;32m   1175\u001b[0m         \u001b[0mworst\u001b[0m \u001b[0;34m=\u001b[0m \u001b[0mmax\u001b[0m\u001b[0;34m(\u001b[0m\u001b[0mall_runs\u001b[0m\u001b[0;34m)\u001b[0m \u001b[0;34m/\u001b[0m \u001b[0mnumber\u001b[0m\u001b[0;34m\u001b[0m\u001b[0;34m\u001b[0m\u001b[0m\n",
      "\u001b[0;32m~/miniconda3/envs/py3.6/lib/python3.7/timeit.py\u001b[0m in \u001b[0;36mrepeat\u001b[0;34m(self, repeat, number)\u001b[0m\n\u001b[1;32m    203\u001b[0m         \u001b[0mr\u001b[0m \u001b[0;34m=\u001b[0m \u001b[0;34m[\u001b[0m\u001b[0;34m]\u001b[0m\u001b[0;34m\u001b[0m\u001b[0;34m\u001b[0m\u001b[0m\n\u001b[1;32m    204\u001b[0m         \u001b[0;32mfor\u001b[0m \u001b[0mi\u001b[0m \u001b[0;32min\u001b[0m \u001b[0mrange\u001b[0m\u001b[0;34m(\u001b[0m\u001b[0mrepeat\u001b[0m\u001b[0;34m)\u001b[0m\u001b[0;34m:\u001b[0m\u001b[0;34m\u001b[0m\u001b[0;34m\u001b[0m\u001b[0m\n\u001b[0;32m--> 205\u001b[0;31m             \u001b[0mt\u001b[0m \u001b[0;34m=\u001b[0m \u001b[0mself\u001b[0m\u001b[0;34m.\u001b[0m\u001b[0mtimeit\u001b[0m\u001b[0;34m(\u001b[0m\u001b[0mnumber\u001b[0m\u001b[0;34m)\u001b[0m\u001b[0;34m\u001b[0m\u001b[0;34m\u001b[0m\u001b[0m\n\u001b[0m\u001b[1;32m    206\u001b[0m             \u001b[0mr\u001b[0m\u001b[0;34m.\u001b[0m\u001b[0mappend\u001b[0m\u001b[0;34m(\u001b[0m\u001b[0mt\u001b[0m\u001b[0;34m)\u001b[0m\u001b[0;34m\u001b[0m\u001b[0;34m\u001b[0m\u001b[0m\n\u001b[1;32m    207\u001b[0m         \u001b[0;32mreturn\u001b[0m \u001b[0mr\u001b[0m\u001b[0;34m\u001b[0m\u001b[0;34m\u001b[0m\u001b[0m\n",
      "\u001b[0;32m~/miniconda3/envs/py3.6/lib/python3.7/site-packages/IPython/core/magics/execution.py\u001b[0m in \u001b[0;36mtimeit\u001b[0;34m(self, number)\u001b[0m\n\u001b[1;32m    167\u001b[0m         \u001b[0mgc\u001b[0m\u001b[0;34m.\u001b[0m\u001b[0mdisable\u001b[0m\u001b[0;34m(\u001b[0m\u001b[0;34m)\u001b[0m\u001b[0;34m\u001b[0m\u001b[0;34m\u001b[0m\u001b[0m\n\u001b[1;32m    168\u001b[0m         \u001b[0;32mtry\u001b[0m\u001b[0;34m:\u001b[0m\u001b[0;34m\u001b[0m\u001b[0;34m\u001b[0m\u001b[0m\n\u001b[0;32m--> 169\u001b[0;31m             \u001b[0mtiming\u001b[0m \u001b[0;34m=\u001b[0m \u001b[0mself\u001b[0m\u001b[0;34m.\u001b[0m\u001b[0minner\u001b[0m\u001b[0;34m(\u001b[0m\u001b[0mit\u001b[0m\u001b[0;34m,\u001b[0m \u001b[0mself\u001b[0m\u001b[0;34m.\u001b[0m\u001b[0mtimer\u001b[0m\u001b[0;34m)\u001b[0m\u001b[0;34m\u001b[0m\u001b[0;34m\u001b[0m\u001b[0m\n\u001b[0m\u001b[1;32m    170\u001b[0m         \u001b[0;32mfinally\u001b[0m\u001b[0;34m:\u001b[0m\u001b[0;34m\u001b[0m\u001b[0;34m\u001b[0m\u001b[0m\n\u001b[1;32m    171\u001b[0m             \u001b[0;32mif\u001b[0m \u001b[0mgcold\u001b[0m\u001b[0;34m:\u001b[0m\u001b[0;34m\u001b[0m\u001b[0;34m\u001b[0m\u001b[0m\n",
      "\u001b[0;32m<magic-timeit>\u001b[0m in \u001b[0;36minner\u001b[0;34m(_it, _timer)\u001b[0m\n",
      "\u001b[0;31mKeyboardInterrupt\u001b[0m: "
     ]
    }
   ],
   "source": [
    "%timeit update_general_FSM_numba(mu, mu, out, np.uint32(F.S), np.uint32(F.Q),np.uint32(2),np.uint32(2),np.uint32(2), np.uint32(len(mu)))\n"
   ]
  },
  {
   "cell_type": "code",
   "execution_count": 39,
   "metadata": {},
   "outputs": [
    {
     "name": "stdout",
     "output_type": "stream",
     "text": [
      "445 ms ± 5.95 ms per loop (mean ± std. dev. of 7 runs, 1 loop each)\n"
     ]
    }
   ],
   "source": [
    "%timeit _Turbo_lib.update_general_FSM_C(mu, mu, out, np.uint32(F.S), np.uint32(F.Q),np.uint32(2),np.uint32(2),np.uint32(2), np.uint32(len(mu)))\n"
   ]
  },
  {
   "cell_type": "code",
   "execution_count": 41,
   "metadata": {},
   "outputs": [
    {
     "name": "stdout",
     "output_type": "stream",
     "text": [
      "257 ms ± 2.64 ms per loop (mean ± std. dev. of 7 runs, 1 loop each)\n"
     ]
    }
   ],
   "source": [
    "%timeit F.update(pc, pd)"
   ]
  },
  {
   "cell_type": "code",
   "execution_count": 46,
   "metadata": {},
   "outputs": [
    {
     "name": "stdout",
     "output_type": "stream",
     "text": [
      "          5 function calls in 0.465 seconds\n",
      "\n",
      "   Ordered by: internal time\n",
      "\n",
      "   ncalls  tottime  percall  cumtime  percall filename:lineno(function)\n",
      "        1    0.465    0.465    0.465    0.465 {_Turbo_lib.update_general_FSM_C}\n",
      "        1    0.000    0.000    0.465    0.465 <string>:1(<module>)\n",
      "        1    0.000    0.000    0.465    0.465 {built-in method builtins.exec}\n",
      "        1    0.000    0.000    0.000    0.000 {built-in method builtins.len}\n",
      "        1    0.000    0.000    0.000    0.000 {method 'disable' of '_lsprof.Profiler' objects}\n",
      "\n",
      "\n"
     ]
    },
    {
     "data": {
      "text/plain": [
       "<pstats.Stats at 0x7f555cb185d0>"
      ]
     },
     "execution_count": 46,
     "metadata": {},
     "output_type": "execute_result"
    },
    {
     "data": {
      "text/plain": [
       "         5 function calls in 0.465 seconds\n",
       "\n",
       "   Ordered by: internal time\n",
       "\n",
       "   ncalls  tottime  percall  cumtime  percall filename:lineno(function)\n",
       "        1    0.465    0.465    0.465    0.465 {_Turbo_lib.update_general_FSM_C}\n",
       "        1    0.000    0.000    0.465    0.465 <string>:1(<module>)\n",
       "        1    0.000    0.000    0.465    0.465 {built-in method builtins.exec}\n",
       "        1    0.000    0.000    0.000    0.000 {built-in method builtins.len}\n",
       "        1    0.000    0.000    0.000    0.000 {method 'disable' of '_lsprof.Profiler' objects}"
      ]
     },
     "metadata": {},
     "output_type": "display_data"
    }
   ],
   "source": [
    "r = %prun -r _Turbo_lib.update_general_FSM_C(mu, mu, out, np.uint32(F.S), np.uint32(F.Q),np.uint32(2),np.uint32(2),np.uint32(2), np.uint32(len(mu)))\n",
    "\n",
    "r.print_stats()"
   ]
  },
  {
   "cell_type": "code",
   "execution_count": 43,
   "metadata": {},
   "outputs": [],
   "source": [
    "%load_ext line_profiler"
   ]
  },
  {
   "cell_type": "code",
   "execution_count": 45,
   "metadata": {},
   "outputs": [
    {
     "name": "stdout",
     "output_type": "stream",
     "text": [
      "          14 function calls in 0.288 seconds\n",
      "\n",
      "   Ordered by: internal time\n",
      "\n",
      "   ncalls  tottime  percall  cumtime  percall filename:lineno(function)\n",
      "        1    0.286    0.286    0.286    0.286 {_Turbo_lib.update_general_FSM_func}\n",
      "        1    0.002    0.002    0.288    0.288 <string>:1(<module>)\n",
      "        1    0.000    0.000    0.287    0.287 Turbo_lib.py:49(update)\n",
      "        1    0.000    0.000    0.288    0.288 {built-in method builtins.exec}\n",
      "        1    0.000    0.000    0.000    0.000 {method 'reduce' of 'numpy.ufunc' objects}\n",
      "        1    0.000    0.000    0.000    0.000 {built-in method numpy.zeros}\n",
      "        1    0.000    0.000    0.000    0.000 fromnumeric.py:70(_wrapreduction)\n",
      "        1    0.000    0.000    0.000    0.000 fromnumeric.py:2589(amax)\n",
      "        1    0.000    0.000    0.000    0.000 <__array_function__ internals>:2(amax)\n",
      "        1    0.000    0.000    0.000    0.000 {built-in method numpy.core._multiarray_umath.implement_array_function}\n",
      "        1    0.000    0.000    0.000    0.000 fromnumeric.py:71(<dictcomp>)\n",
      "        1    0.000    0.000    0.000    0.000 fromnumeric.py:2584(_amax_dispatcher)\n",
      "        1    0.000    0.000    0.000    0.000 {method 'items' of 'dict' objects}\n",
      "        1    0.000    0.000    0.000    0.000 {method 'disable' of '_lsprof.Profiler' objects}\n",
      "\n",
      "\n"
     ]
    },
    {
     "data": {
      "text/plain": [
       "<pstats.Stats at 0x7f555d329fd0>"
      ]
     },
     "execution_count": 45,
     "metadata": {},
     "output_type": "execute_result"
    },
    {
     "data": {
      "text/plain": [
       "         14 function calls in 0.288 seconds\n",
       "\n",
       "   Ordered by: internal time\n",
       "\n",
       "   ncalls  tottime  percall  cumtime  percall filename:lineno(function)\n",
       "        1    0.286    0.286    0.286    0.286 {_Turbo_lib.update_general_FSM_func}\n",
       "        1    0.002    0.002    0.288    0.288 <string>:1(<module>)\n",
       "        1    0.000    0.000    0.287    0.287 Turbo_lib.py:49(update)\n",
       "        1    0.000    0.000    0.288    0.288 {built-in method builtins.exec}\n",
       "        1    0.000    0.000    0.000    0.000 {method 'reduce' of 'numpy.ufunc' objects}\n",
       "        1    0.000    0.000    0.000    0.000 {built-in method numpy.zeros}\n",
       "        1    0.000    0.000    0.000    0.000 fromnumeric.py:70(_wrapreduction)\n",
       "        1    0.000    0.000    0.000    0.000 fromnumeric.py:2589(amax)\n",
       "        1    0.000    0.000    0.000    0.000 <__array_function__ internals>:2(amax)\n",
       "        1    0.000    0.000    0.000    0.000 {built-in method numpy.core._multiarray_umath.implement_array_function}\n",
       "        1    0.000    0.000    0.000    0.000 fromnumeric.py:71(<dictcomp>)\n",
       "        1    0.000    0.000    0.000    0.000 fromnumeric.py:2584(_amax_dispatcher)\n",
       "        1    0.000    0.000    0.000    0.000 {method 'items' of 'dict' objects}\n",
       "        1    0.000    0.000    0.000    0.000 {method 'disable' of '_lsprof.Profiler' objects}"
      ]
     },
     "metadata": {},
     "output_type": "display_data"
    }
   ],
   "source": [
    "r = %prun -r F.update(pc, pd)\n",
    "r.print_stats()"
   ]
  },
  {
   "cell_type": "code",
   "execution_count": 47,
   "metadata": {},
   "outputs": [],
   "source": [
    "%load_ext cython"
   ]
  },
  {
   "cell_type": "code",
   "execution_count": 48,
   "metadata": {},
   "outputs": [
    {
     "ename": "ModuleNotFoundError",
     "evalue": "No module named 'pythran'",
     "output_type": "error",
     "traceback": [
      "\u001b[0;31m---------------------------------------------------------------------------\u001b[0m",
      "\u001b[0;31mModuleNotFoundError\u001b[0m                       Traceback (most recent call last)",
      "\u001b[0;32m<ipython-input-48-60954a8043dc>\u001b[0m in \u001b[0;36m<module>\u001b[0;34m\u001b[0m\n\u001b[0;32m----> 1\u001b[0;31m \u001b[0mget_ipython\u001b[0m\u001b[0;34m(\u001b[0m\u001b[0;34m)\u001b[0m\u001b[0;34m.\u001b[0m\u001b[0mrun_line_magic\u001b[0m\u001b[0;34m(\u001b[0m\u001b[0;34m'load_ext'\u001b[0m\u001b[0;34m,\u001b[0m \u001b[0;34m'pythran.magic'\u001b[0m\u001b[0;34m)\u001b[0m\u001b[0;34m\u001b[0m\u001b[0;34m\u001b[0m\u001b[0m\n\u001b[0m",
      "\u001b[0;32m~/miniconda3/envs/py3.6/lib/python3.7/site-packages/IPython/core/interactiveshell.py\u001b[0m in \u001b[0;36mrun_line_magic\u001b[0;34m(self, magic_name, line, _stack_depth)\u001b[0m\n\u001b[1;32m   2325\u001b[0m                 \u001b[0mkwargs\u001b[0m\u001b[0;34m[\u001b[0m\u001b[0;34m'local_ns'\u001b[0m\u001b[0;34m]\u001b[0m \u001b[0;34m=\u001b[0m \u001b[0mself\u001b[0m\u001b[0;34m.\u001b[0m\u001b[0mget_local_scope\u001b[0m\u001b[0;34m(\u001b[0m\u001b[0mstack_depth\u001b[0m\u001b[0;34m)\u001b[0m\u001b[0;34m\u001b[0m\u001b[0;34m\u001b[0m\u001b[0m\n\u001b[1;32m   2326\u001b[0m             \u001b[0;32mwith\u001b[0m \u001b[0mself\u001b[0m\u001b[0;34m.\u001b[0m\u001b[0mbuiltin_trap\u001b[0m\u001b[0;34m:\u001b[0m\u001b[0;34m\u001b[0m\u001b[0;34m\u001b[0m\u001b[0m\n\u001b[0;32m-> 2327\u001b[0;31m                 \u001b[0mresult\u001b[0m \u001b[0;34m=\u001b[0m \u001b[0mfn\u001b[0m\u001b[0;34m(\u001b[0m\u001b[0;34m*\u001b[0m\u001b[0margs\u001b[0m\u001b[0;34m,\u001b[0m \u001b[0;34m**\u001b[0m\u001b[0mkwargs\u001b[0m\u001b[0;34m)\u001b[0m\u001b[0;34m\u001b[0m\u001b[0;34m\u001b[0m\u001b[0m\n\u001b[0m\u001b[1;32m   2328\u001b[0m             \u001b[0;32mreturn\u001b[0m \u001b[0mresult\u001b[0m\u001b[0;34m\u001b[0m\u001b[0;34m\u001b[0m\u001b[0m\n\u001b[1;32m   2329\u001b[0m \u001b[0;34m\u001b[0m\u001b[0m\n",
      "\u001b[0;32m<decorator-gen-57>\u001b[0m in \u001b[0;36mload_ext\u001b[0;34m(self, module_str)\u001b[0m\n",
      "\u001b[0;32m~/miniconda3/envs/py3.6/lib/python3.7/site-packages/IPython/core/magic.py\u001b[0m in \u001b[0;36m<lambda>\u001b[0;34m(f, *a, **k)\u001b[0m\n\u001b[1;32m    185\u001b[0m     \u001b[0;31m# but it's overkill for just that one bit of state.\u001b[0m\u001b[0;34m\u001b[0m\u001b[0;34m\u001b[0m\u001b[0;34m\u001b[0m\u001b[0m\n\u001b[1;32m    186\u001b[0m     \u001b[0;32mdef\u001b[0m \u001b[0mmagic_deco\u001b[0m\u001b[0;34m(\u001b[0m\u001b[0marg\u001b[0m\u001b[0;34m)\u001b[0m\u001b[0;34m:\u001b[0m\u001b[0;34m\u001b[0m\u001b[0;34m\u001b[0m\u001b[0m\n\u001b[0;32m--> 187\u001b[0;31m         \u001b[0mcall\u001b[0m \u001b[0;34m=\u001b[0m \u001b[0;32mlambda\u001b[0m \u001b[0mf\u001b[0m\u001b[0;34m,\u001b[0m \u001b[0;34m*\u001b[0m\u001b[0ma\u001b[0m\u001b[0;34m,\u001b[0m \u001b[0;34m**\u001b[0m\u001b[0mk\u001b[0m\u001b[0;34m:\u001b[0m \u001b[0mf\u001b[0m\u001b[0;34m(\u001b[0m\u001b[0;34m*\u001b[0m\u001b[0ma\u001b[0m\u001b[0;34m,\u001b[0m \u001b[0;34m**\u001b[0m\u001b[0mk\u001b[0m\u001b[0;34m)\u001b[0m\u001b[0;34m\u001b[0m\u001b[0;34m\u001b[0m\u001b[0m\n\u001b[0m\u001b[1;32m    188\u001b[0m \u001b[0;34m\u001b[0m\u001b[0m\n\u001b[1;32m    189\u001b[0m         \u001b[0;32mif\u001b[0m \u001b[0mcallable\u001b[0m\u001b[0;34m(\u001b[0m\u001b[0marg\u001b[0m\u001b[0;34m)\u001b[0m\u001b[0;34m:\u001b[0m\u001b[0;34m\u001b[0m\u001b[0;34m\u001b[0m\u001b[0m\n",
      "\u001b[0;32m~/miniconda3/envs/py3.6/lib/python3.7/site-packages/IPython/core/magics/extension.py\u001b[0m in \u001b[0;36mload_ext\u001b[0;34m(self, module_str)\u001b[0m\n\u001b[1;32m     31\u001b[0m         \u001b[0;32mif\u001b[0m \u001b[0;32mnot\u001b[0m \u001b[0mmodule_str\u001b[0m\u001b[0;34m:\u001b[0m\u001b[0;34m\u001b[0m\u001b[0;34m\u001b[0m\u001b[0m\n\u001b[1;32m     32\u001b[0m             \u001b[0;32mraise\u001b[0m \u001b[0mUsageError\u001b[0m\u001b[0;34m(\u001b[0m\u001b[0;34m'Missing module name.'\u001b[0m\u001b[0;34m)\u001b[0m\u001b[0;34m\u001b[0m\u001b[0;34m\u001b[0m\u001b[0m\n\u001b[0;32m---> 33\u001b[0;31m         \u001b[0mres\u001b[0m \u001b[0;34m=\u001b[0m \u001b[0mself\u001b[0m\u001b[0;34m.\u001b[0m\u001b[0mshell\u001b[0m\u001b[0;34m.\u001b[0m\u001b[0mextension_manager\u001b[0m\u001b[0;34m.\u001b[0m\u001b[0mload_extension\u001b[0m\u001b[0;34m(\u001b[0m\u001b[0mmodule_str\u001b[0m\u001b[0;34m)\u001b[0m\u001b[0;34m\u001b[0m\u001b[0;34m\u001b[0m\u001b[0m\n\u001b[0m\u001b[1;32m     34\u001b[0m \u001b[0;34m\u001b[0m\u001b[0m\n\u001b[1;32m     35\u001b[0m         \u001b[0;32mif\u001b[0m \u001b[0mres\u001b[0m \u001b[0;34m==\u001b[0m \u001b[0;34m'already loaded'\u001b[0m\u001b[0;34m:\u001b[0m\u001b[0;34m\u001b[0m\u001b[0;34m\u001b[0m\u001b[0m\n",
      "\u001b[0;32m~/miniconda3/envs/py3.6/lib/python3.7/site-packages/IPython/core/extensions.py\u001b[0m in \u001b[0;36mload_extension\u001b[0;34m(self, module_str)\u001b[0m\n\u001b[1;32m     78\u001b[0m             \u001b[0;32mif\u001b[0m \u001b[0mmodule_str\u001b[0m \u001b[0;32mnot\u001b[0m \u001b[0;32min\u001b[0m \u001b[0msys\u001b[0m\u001b[0;34m.\u001b[0m\u001b[0mmodules\u001b[0m\u001b[0;34m:\u001b[0m\u001b[0;34m\u001b[0m\u001b[0;34m\u001b[0m\u001b[0m\n\u001b[1;32m     79\u001b[0m                 \u001b[0;32mwith\u001b[0m \u001b[0mprepended_to_syspath\u001b[0m\u001b[0;34m(\u001b[0m\u001b[0mself\u001b[0m\u001b[0;34m.\u001b[0m\u001b[0mipython_extension_dir\u001b[0m\u001b[0;34m)\u001b[0m\u001b[0;34m:\u001b[0m\u001b[0;34m\u001b[0m\u001b[0;34m\u001b[0m\u001b[0m\n\u001b[0;32m---> 80\u001b[0;31m                     \u001b[0mmod\u001b[0m \u001b[0;34m=\u001b[0m \u001b[0mimport_module\u001b[0m\u001b[0;34m(\u001b[0m\u001b[0mmodule_str\u001b[0m\u001b[0;34m)\u001b[0m\u001b[0;34m\u001b[0m\u001b[0;34m\u001b[0m\u001b[0m\n\u001b[0m\u001b[1;32m     81\u001b[0m                     \u001b[0;32mif\u001b[0m \u001b[0mmod\u001b[0m\u001b[0;34m.\u001b[0m\u001b[0m__file__\u001b[0m\u001b[0;34m.\u001b[0m\u001b[0mstartswith\u001b[0m\u001b[0;34m(\u001b[0m\u001b[0mself\u001b[0m\u001b[0;34m.\u001b[0m\u001b[0mipython_extension_dir\u001b[0m\u001b[0;34m)\u001b[0m\u001b[0;34m:\u001b[0m\u001b[0;34m\u001b[0m\u001b[0;34m\u001b[0m\u001b[0m\n\u001b[1;32m     82\u001b[0m                         print((\"Loading extensions from {dir} is deprecated. \"\n",
      "\u001b[0;32m~/miniconda3/envs/py3.6/lib/python3.7/importlib/__init__.py\u001b[0m in \u001b[0;36mimport_module\u001b[0;34m(name, package)\u001b[0m\n\u001b[1;32m    125\u001b[0m                 \u001b[0;32mbreak\u001b[0m\u001b[0;34m\u001b[0m\u001b[0;34m\u001b[0m\u001b[0m\n\u001b[1;32m    126\u001b[0m             \u001b[0mlevel\u001b[0m \u001b[0;34m+=\u001b[0m \u001b[0;36m1\u001b[0m\u001b[0;34m\u001b[0m\u001b[0;34m\u001b[0m\u001b[0m\n\u001b[0;32m--> 127\u001b[0;31m     \u001b[0;32mreturn\u001b[0m \u001b[0m_bootstrap\u001b[0m\u001b[0;34m.\u001b[0m\u001b[0m_gcd_import\u001b[0m\u001b[0;34m(\u001b[0m\u001b[0mname\u001b[0m\u001b[0;34m[\u001b[0m\u001b[0mlevel\u001b[0m\u001b[0;34m:\u001b[0m\u001b[0;34m]\u001b[0m\u001b[0;34m,\u001b[0m \u001b[0mpackage\u001b[0m\u001b[0;34m,\u001b[0m \u001b[0mlevel\u001b[0m\u001b[0;34m)\u001b[0m\u001b[0;34m\u001b[0m\u001b[0;34m\u001b[0m\u001b[0m\n\u001b[0m\u001b[1;32m    128\u001b[0m \u001b[0;34m\u001b[0m\u001b[0m\n\u001b[1;32m    129\u001b[0m \u001b[0;34m\u001b[0m\u001b[0m\n",
      "\u001b[0;32m~/miniconda3/envs/py3.6/lib/python3.7/importlib/_bootstrap.py\u001b[0m in \u001b[0;36m_gcd_import\u001b[0;34m(name, package, level)\u001b[0m\n",
      "\u001b[0;32m~/miniconda3/envs/py3.6/lib/python3.7/importlib/_bootstrap.py\u001b[0m in \u001b[0;36m_find_and_load\u001b[0;34m(name, import_)\u001b[0m\n",
      "\u001b[0;32m~/miniconda3/envs/py3.6/lib/python3.7/importlib/_bootstrap.py\u001b[0m in \u001b[0;36m_find_and_load_unlocked\u001b[0;34m(name, import_)\u001b[0m\n",
      "\u001b[0;32m~/miniconda3/envs/py3.6/lib/python3.7/importlib/_bootstrap.py\u001b[0m in \u001b[0;36m_call_with_frames_removed\u001b[0;34m(f, *args, **kwds)\u001b[0m\n",
      "\u001b[0;32m~/miniconda3/envs/py3.6/lib/python3.7/importlib/_bootstrap.py\u001b[0m in \u001b[0;36m_gcd_import\u001b[0;34m(name, package, level)\u001b[0m\n",
      "\u001b[0;32m~/miniconda3/envs/py3.6/lib/python3.7/importlib/_bootstrap.py\u001b[0m in \u001b[0;36m_find_and_load\u001b[0;34m(name, import_)\u001b[0m\n",
      "\u001b[0;32m~/miniconda3/envs/py3.6/lib/python3.7/importlib/_bootstrap.py\u001b[0m in \u001b[0;36m_find_and_load_unlocked\u001b[0;34m(name, import_)\u001b[0m\n",
      "\u001b[0;31mModuleNotFoundError\u001b[0m: No module named 'pythran'"
     ]
    }
   ],
   "source": [
    "%load_ext pythran.magic"
   ]
  },
  {
   "cell_type": "code",
   "execution_count": null,
   "metadata": {},
   "outputs": [],
   "source": [
    "%%pythran\n",
    "#pythran export laplace_pythran_highlevel(float[][])\n",
    "import numpy as np\n",
    "def laplace_pythran_highlevel(image):\n",
    "    \"\"\"Laplace operator in NumPy for 2D images. Pythran accelerated.\"\"\"\n",
    "    laplacian = image[:-2, 1:-1] + image[2:, 1:-1] + image[1:-1, :-2] + image[1:-1, 2:] - 4*image[1:-1, 1:-1]\n",
    "    thresh = np.abs(laplacian) > 0.05\n",
    "    return thresh\n"
   ]
  },
  {
   "cell_type": "code",
   "execution_count": null,
   "metadata": {},
   "outputs": [],
   "source": [
    "l = 5\n",
    "SNR = 3\n",
    "d = np.random.randint(2, size=l)\n",
    "c = F.encode(d)\n",
    "s = 2*c - 1 # BPSK\n",
    "(x, sigma2w) = AWGN(s, SNR)\n",
    "mu = np.zeros([l, 2])\n",
    "mu[:,0] = np.exp(-np.abs(x + 1)**2/sigma2w)\n",
    "mu[:,1] = np.exp(-np.abs(x - 1)**2/sigma2w)\n",
    "\n",
    "pd = np.ones(l*2, float)/2  # no a priory knowledge\n",
    "pc = mu.flatten() # observation\n",
    "s_c = time.time()\n",
    "res_conv = F.update(pc, pd).reshape(l, 2) # conventional prob based solution\n",
    "e_c = time.time()\n",
    "s_c2 = time.time()\n",
    "res_conv2 = F.update_C(mu, np.ones([l,2],float)/2) # conventional prob based solution\n",
    "e_c2 = time.time()\n",
    "#print res_conv[:10], np.argmax(res_conv, axis=1)[:10], d[:10]\n",
    "nerr_c2 = np.sum(np.argmax(res_conv2, axis=1) != d)\n",
    "nerr_c = np.sum(np.argmax(res_conv, axis=1) != d)\n",
    "nerr_u = np.sum(np.argmax(mu, axis=1) != c)\n",
    "\n",
    "print('Nerr uncoded:%d, \\t Nerr coded:%d, \\t Time ref:%.6f'%(nerr_u, nerr_c, e_c-s_c))\n",
    "print('Nerr coded2:%d, \\t Time coded2:%.6f'%(nerr_c2, e_c2-s_c2))\n",
    "\n"
   ]
  },
  {
   "cell_type": "code",
   "execution_count": 1,
   "metadata": {
    "collapsed": false,
    "jupyter": {
     "outputs_hidden": false
    }
   },
   "outputs": [
    {
     "ename": "SyntaxError",
     "evalue": "Missing parentheses in call to 'print'. Did you mean print(sf_inds, sf_vals)? (Advandeced_Turbo_lib.py, line 350)",
     "output_type": "error",
     "traceback": [
      "\u001b[0;36m  File \u001b[0;32m\"/opt/projects/PhD_study/software/Eval_Framework/Pfiles/Turbo_lib/Advandeced_Turbo_lib.py\"\u001b[0;36m, line \u001b[0;32m350\u001b[0m\n\u001b[0;31m    print sf_inds, sf_vals\u001b[0m\n\u001b[0m                ^\u001b[0m\n\u001b[0;31mSyntaxError\u001b[0m\u001b[0;31m:\u001b[0m Missing parentheses in call to 'print'. Did you mean print(sf_inds, sf_vals)?\n"
     ]
    }
   ],
   "source": [
    "run Advandeced_Turbo_lib.py"
   ]
  },
  {
   "cell_type": "code",
   "execution_count": 5,
   "metadata": {},
   "outputs": [],
   "source": [
    "SNR = 5\n",
    "l = 20\n",
    "S = np.zeros([2,8],int)\n",
    "Q = np.zeros([2,8],int)\n",
    "S1 = np.zeros([2,8],int)\n",
    "Q1 = np.zeros([2,8],int)\n",
    "Qm1 = np.zeros([2,8],int)\n",
    "_Turbo_lib.create_matrix_SQ_XOR_all(S,Q,S1,Q1,Qm1)\n",
    "F = advanced_FSM(S,Q,S1,Q1, Qm1)\n",
    "l1 = l+F.K"
   ]
  },
  {
   "cell_type": "code",
   "execution_count": 6,
   "metadata": {
    "collapsed": false,
    "jupyter": {
     "outputs_hidden": false
    }
   },
   "outputs": [
    {
     "ename": "TypeError",
     "evalue": "unsupported operand type(s) for -: 'tuple' and 'int'",
     "output_type": "error",
     "traceback": [
      "\u001b[1;31m---------------------------------------------------------------------------\u001b[0m",
      "\u001b[1;31mTypeError\u001b[0m                                 Traceback (most recent call last)",
      "\u001b[1;32m<ipython-input-6-c4beb8b4333a>\u001b[0m in \u001b[0;36m<module>\u001b[1;34m()\u001b[0m\n\u001b[0;32m      2\u001b[0m \u001b[1;31m#d=np.array([0, 1, 1, 0, 1, 1, 0, 0, 1, 1])\u001b[0m\u001b[1;33m\u001b[0m\u001b[1;33m\u001b[0m\u001b[0m\n\u001b[0;32m      3\u001b[0m \u001b[0mc\u001b[0m \u001b[1;33m=\u001b[0m \u001b[0mF\u001b[0m\u001b[1;33m.\u001b[0m\u001b[0mencode_zero_term\u001b[0m\u001b[1;33m(\u001b[0m\u001b[0md\u001b[0m\u001b[1;33m)\u001b[0m\u001b[1;33m\u001b[0m\u001b[0m\n\u001b[1;32m----> 4\u001b[1;33m \u001b[0ms\u001b[0m \u001b[1;33m=\u001b[0m \u001b[1;36m2\u001b[0m\u001b[1;33m*\u001b[0m\u001b[0mc\u001b[0m \u001b[1;33m-\u001b[0m \u001b[1;36m1\u001b[0m \u001b[1;31m# BPSK\u001b[0m\u001b[1;33m\u001b[0m\u001b[0m\n\u001b[0m\u001b[0;32m      5\u001b[0m \u001b[1;33m(\u001b[0m\u001b[0mx\u001b[0m\u001b[1;33m,\u001b[0m \u001b[0msigma2w\u001b[0m\u001b[1;33m)\u001b[0m \u001b[1;33m=\u001b[0m \u001b[0mAWGN\u001b[0m\u001b[1;33m(\u001b[0m\u001b[0ms\u001b[0m\u001b[1;33m,\u001b[0m \u001b[0mSNR\u001b[0m\u001b[1;33m)\u001b[0m\u001b[1;33m\u001b[0m\u001b[0m\n\u001b[0;32m      6\u001b[0m \u001b[0mmu\u001b[0m \u001b[1;33m=\u001b[0m \u001b[0mnp\u001b[0m\u001b[1;33m.\u001b[0m\u001b[0mzeros\u001b[0m\u001b[1;33m(\u001b[0m\u001b[1;33m[\u001b[0m\u001b[0ml1\u001b[0m\u001b[1;33m,\u001b[0m \u001b[1;36m2\u001b[0m\u001b[1;33m]\u001b[0m\u001b[1;33m)\u001b[0m\u001b[1;33m\u001b[0m\u001b[0m\n",
      "\u001b[1;31mTypeError\u001b[0m: unsupported operand type(s) for -: 'tuple' and 'int'"
     ]
    }
   ],
   "source": [
    "d = np.random.randint(2, size=l)\n",
    "#d=np.array([0, 1, 1, 0, 1, 1, 0, 0, 1, 1])\n",
    "c = F.encode_zero_term(d)\n",
    "s = 2*c - 1 # BPSK\n",
    "(x, sigma2w) = AWGN(s, SNR)\n",
    "mu = np.zeros([l1, 2])\n",
    "mu[:,0] = np.exp(-np.abs(x + 1)**2/sigma2w)\n",
    "mu[:,1] = np.exp(-np.abs(x - 1)**2/sigma2w)\n",
    "\n",
    "pd = np.ones(l1*2, float)/2  # no a priory knowledge\n",
    "pc = mu.flatten() # observation\n",
    "res_conv = F.update(pc, pd).reshape(l1, 2) # conventional prob based solution\n",
    "res_conv2 = F.update_C(mu, np.ones([l1,2],float)/2) # conventional prob based solution\n",
    "#    print res_conv[:10], np.argmax(res_conv, axis=1)[:10], d[:10]\n",
    "nerr_c2 = np.sum(np.argmax(res_conv2, axis=1) != d)\n",
    "nerr_c = np.sum(np.argmax(res_conv, axis=1) != d)\n",
    "nerr_u = np.sum(np.argmax(mu, axis=1) != c)"
   ]
  },
  {
   "cell_type": "code",
   "execution_count": 7,
   "metadata": {
    "collapsed": false,
    "jupyter": {
     "outputs_hidden": false
    }
   },
   "outputs": [
    {
     "data": {
      "text/plain": [
       "(array([0, 1, 1, 0, 0, 0, 0, 0, 1, 1, 1, 1, 0, 0, 0, 0, 1, 0, 1, 0, 1, 1, 0]),\n",
       " array([1, 1, 0]))"
      ]
     },
     "execution_count": 7,
     "metadata": {},
     "output_type": "execute_result"
    }
   ],
   "source": [
    "c"
   ]
  },
  {
   "cell_type": "code",
   "execution_count": 8,
   "metadata": {
    "collapsed": false,
    "jupyter": {
     "outputs_hidden": false
    }
   },
   "outputs": [],
   "source": [
    "pc_inds = np.array([[0,1]]).repeat(l1,axis=0)\n",
    "pd_inds = np.array([[0,1]]).repeat(l1,axis=0)\n",
    "pd_vals = np.ones([l1,2])/2\n",
    "pc_vals = mu"
   ]
  },
  {
   "cell_type": "code",
   "execution_count": 9,
   "metadata": {
    "collapsed": false,
    "jupyter": {
     "outputs_hidden": false
    }
   },
   "outputs": [
    {
     "name": "stdout",
     "output_type": "stream",
     "text": [
      "CPU times: user 32 ms, sys: 1 ms, total: 33 ms\n",
      "Wall time: 33.3 ms\n",
      "0\n"
     ]
    }
   ],
   "source": [
    "%time a =F.update_lim(pd_inds, pd_vals, pc_inds, pc_vals, 2,8,2)\n",
    "print np.sum(np.abs(a[1][:-3,0]-d))"
   ]
  },
  {
   "cell_type": "code",
   "execution_count": 10,
   "metadata": {
    "collapsed": false,
    "jupyter": {
     "outputs_hidden": false
    }
   },
   "outputs": [
    {
     "name": "stdout",
     "output_type": "stream",
     "text": [
      "[1 1 1 0 1 0 0 1 0 1 1 1 0 1 0 1 0 1 1 0 0 1 0]\n",
      "[1 1 1 0 1 0 0 1 0 1 1 1 0 1 0 1 0 1 1 0]\n"
     ]
    }
   ],
   "source": [
    "print a[1][:,0]\n",
    "print d"
   ]
  },
  {
   "cell_type": "code",
   "execution_count": 11,
   "metadata": {
    "collapsed": false,
    "jupyter": {
     "outputs_hidden": false
    }
   },
   "outputs": [
    {
     "name": "stdout",
     "output_type": "stream",
     "text": [
      "CPU times: user 17 ms, sys: 0 ns, total: 17 ms\n",
      "Wall time: 16.5 ms\n"
     ]
    }
   ],
   "source": [
    "%time a = F.update_lim(pd_inds, pd_vals, pc_inds, pc_vals, 2,2,2)"
   ]
  },
  {
   "cell_type": "code",
   "execution_count": 50,
   "metadata": {
    "collapsed": true,
    "jupyter": {
     "outputs_hidden": true
    }
   },
   "outputs": [],
   "source": [
    "def pmf2df(pmf, max_vals):\n",
    "    x,y = pmf.shape\n",
    "    if y <= max_vals:\n",
    "        inds = np.array([np.arange(y)]).repeat(x,axis=0)\n",
    "        vals = pmf\n",
    "    else:\n",
    "        temp = np.argsort(pmf, axis = 1)[:,-1::-1]        \n",
    "        vals = np.vstack([pmf[i,temp[i,:max_vals]] for i in range(x)])        \n",
    "        inds = temp[:,:max_vals]\n",
    "        \n",
    "    return inds, vals\n"
   ]
  },
  {
   "cell_type": "code",
   "execution_count": 1,
   "metadata": {
    "collapsed": true,
    "jupyter": {
     "outputs_hidden": true
    }
   },
   "outputs": [],
   "source": [
    "run Advandeced_Turbo_lib.py"
   ]
  },
  {
   "cell_type": "code",
   "execution_count": 2,
   "metadata": {
    "collapsed": true,
    "jupyter": {
     "outputs_hidden": true
    }
   },
   "outputs": [],
   "source": [
    "def QAM(M): # 2**M QAM constellation\n",
    "    if M == 0:\n",
    "        return np.array([0])\n",
    "    odd = M % 2\n",
    "    base = (M - odd) / 2\n",
    "    min_Re = -2**(base+odd) + 1\n",
    "    max_Re = 2**(base+odd) - 1\n",
    "    min_Im = -2**base + 1\n",
    "    max_Im = 2**base - 1\n",
    "    const = np.asarray([i + 1j*j  for i in np.arange(min_Re, max_Re+1, 2)\\\n",
    "                                   for j in np.arange(min_Im, max_Im+1, 2)])\n",
    "    scale = np.sqrt((np.abs(const)**2).sum()/float(2**M))\n",
    "    return const / scale\n"
   ]
  },
  {
   "cell_type": "code",
   "execution_count": 3,
   "metadata": {
    "collapsed": false,
    "jupyter": {
     "outputs_hidden": false
    }
   },
   "outputs": [],
   "source": [
    "Nb = 4\n",
    "k = 2\n",
    "const = QAM(Nb)\n",
    "SNR = 12\n",
    "Aq = 2**Nb"
   ]
  },
  {
   "cell_type": "code",
   "execution_count": 4,
   "metadata": {
    "collapsed": false,
    "jupyter": {
     "outputs_hidden": false
    }
   },
   "outputs": [],
   "source": [
    "S = Sparse_Turbo_Coder(k, 1./3, [], [], 3, Aq, 0, 5)"
   ]
  },
  {
   "cell_type": "code",
   "execution_count": 5,
   "metadata": {
    "collapsed": false,
    "jupyter": {
     "outputs_hidden": false
    }
   },
   "outputs": [
    {
     "name": "stdout",
     "output_type": "stream",
     "text": [
      "[12  3 12 15  3  3 15 12 12  3 15 15 15 15  3 15 15 12]\n"
     ]
    }
   ],
   "source": [
    "#b = np.random.randint(Aq, size=k)\n",
    "b = np.array([12,3],int)\n",
    "c = S.encode_zero(b)\n",
    "print c\n",
    "#print len(c)\n",
    "s = const[c]\n",
    "(x, sigma2w) = AWGN(s, SNR)"
   ]
  },
  {
   "cell_type": "code",
   "execution_count": 6,
   "metadata": {
    "collapsed": false,
    "jupyter": {
     "outputs_hidden": false
    }
   },
   "outputs": [
    {
     "name": "stdout",
     "output_type": "stream",
     "text": [
      "(array([3, 2, 2, 2, 1]), array([3, 2, 1]))\n"
     ]
    }
   ],
   "source": [
    "#S.F.encode(np.array([3,1]))\n",
    "print S.F.encode_zero_term(np.array([3,1]))\n"
   ]
  },
  {
   "cell_type": "code",
   "execution_count": 7,
   "metadata": {
    "collapsed": false,
    "jupyter": {
     "outputs_hidden": false
    }
   },
   "outputs": [
    {
     "name": "stdout",
     "output_type": "stream",
     "text": [
      "[12  3] [12 15  3] [ 3 15 12] [15 15  3] [15 15 12] [12 15] [ 3 15]\n"
     ]
    }
   ],
   "source": [
    "b_int = b[S.inter]\n",
    "k = len(b)\n",
    "p = S.n - k\n",
    "c1_full, b_add1 = S.F.encode_zero_term(b)\n",
    "c2_full, b_add2 = S.F.encode_zero_term(b_int)\n",
    "c1 = c1_full[:(-S.F.K)]\n",
    "c2 = c2_full[:(-S.F.K)]\n",
    "c1_add = c1_full[(-S.F.K):]\n",
    "c2_add = c2_full[(-S.F.K):]\n",
    "print b, b_add1, b_add2, c1_add, c2_add, c1, c2"
   ]
  },
  {
   "cell_type": "code",
   "execution_count": 10,
   "metadata": {
    "collapsed": true,
    "jupyter": {
     "outputs_hidden": true
    }
   },
   "outputs": [],
   "source": [
    "plt.plot(np.real(x), np.imag(x), 'xr')\n",
    "plt.plot(np.real(const), np.imag(const), 'ob')\n",
    "plt.show()"
   ]
  },
  {
   "cell_type": "code",
   "execution_count": 8,
   "metadata": {
    "collapsed": false,
    "jupyter": {
     "outputs_hidden": false
    }
   },
   "outputs": [],
   "source": [
    "N = len(c)"
   ]
  },
  {
   "cell_type": "code",
   "execution_count": 9,
   "metadata": {
    "collapsed": false,
    "jupyter": {
     "outputs_hidden": false
    }
   },
   "outputs": [],
   "source": [
    "mu = np.zeros([N, Aq])\n",
    "for i in range(Aq): \n",
    "    mu[:, i] = np.exp(-np.abs(x - const[i])**2/sigma2w)\n"
   ]
  },
  {
   "cell_type": "code",
   "execution_count": 23,
   "metadata": {
    "collapsed": false,
    "jupyter": {
     "outputs_hidden": false
    }
   },
   "outputs": [],
   "source": [
    "#%time inds, vals = S.decode(mu, max_vals = 16, max_valsS = 100)"
   ]
  },
  {
   "cell_type": "code",
   "execution_count": 16,
   "metadata": {
    "collapsed": false,
    "jupyter": {
     "outputs_hidden": false
    }
   },
   "outputs": [
    {
     "name": "stdout",
     "output_type": "stream",
     "text": [
      "[ 0.  0.  0.  0.  0.  0.  0.  0.  0.  0.  0.  0.  0.  0.  0.  0.  0.  0.\n",
      "  0.  0.]\n"
     ]
    }
   ],
   "source": [
    "\n",
    "def decide(inds, vals):\n",
    "    return [inds[i,np.argmax(vals[i,:])] for i in range(len(inds))]\n",
    "\n",
    "print decide(inds,vals)- b\n",
    "    "
   ]
  },
  {
   "cell_type": "code",
   "execution_count": 15,
   "metadata": {
    "collapsed": false,
    "jupyter": {
     "outputs_hidden": false
    }
   },
   "outputs": [
    {
     "data": {
      "text/plain": [
       "array([[  6.17077428e-20,   3.37552430e-01,   8.03018510e-35,\n",
       "          4.39265540e-16],\n",
       "       [  1.66330203e-26,   1.16218885e-09,   2.63616434e-18,\n",
       "          1.84195098e-01],\n",
       "       [  9.90645875e-16,   9.26073659e-01,   4.06060603e-30,\n",
       "          3.79592787e-15],\n",
       "       [  1.37711278e-11,   6.51797197e-01,   3.52714051e-26,\n",
       "          1.66942049e-15],\n",
       "       [  1.75739676e-15,   3.47662041e-33,   5.12367199e-01,\n",
       "          1.01360507e-18],\n",
       "       [  1.52773676e-16,   2.17846883e-27,   6.08210683e-01,\n",
       "          8.67275075e-12]])"
      ]
     },
     "execution_count": 15,
     "metadata": {},
     "output_type": "execute_result"
    }
   ],
   "source": [
    "mu"
   ]
  },
  {
   "cell_type": "code",
   "execution_count": 10,
   "metadata": {
    "collapsed": false,
    "jupyter": {
     "outputs_hidden": false
    }
   },
   "outputs": [],
   "source": [
    "max_vals = 16\n",
    "k = S.k\n",
    "K = S.F.K\n",
    "p = S.p\n",
    "inter = S.inter\n",
    "deinter = S.deinter\n",
    "mbi = mu[:k,:]\n",
    "mci = mu[(k+K*2):(-2*K),:]\n",
    "b1term_i, b1term_v= pmf2df(mu[k:(k+K), :], max_vals)\n",
    "b2term_i, b2term_v= pmf2df(mu[(k+K):(k+2*K), :], max_vals)\n",
    "c1term_i, c1term_v= pmf2df(mu[(-2*K):(-K), :], max_vals)\n",
    "c2term_i, c2term_v = pmf2df(mu[(-K):, :], max_vals)\n",
    "map_inds_c1 = S.map_inds_c1\n",
    "map_inds_c2 = S.map_inds_c2\n",
    "mci1t = np.ones([k, Aq], float)/Aq;\n",
    "mci1t[map_inds_c1, :] = mci[::2]\n",
    "mci2t = np.ones([k, Aq], float)/Aq;\n",
    "mci2t[map_inds_c2, :] = mci[1::2]\n",
    "\n",
    "b_inds, b_vals = pmf2df(mbi, max_vals)\n",
    "c1_inds, c1_vals = pmf2df(mci1t, max_vals)\n",
    "c2_inds, c2_vals = pmf2df(mci2t, max_vals)\n",
    "Nd = np.min([max_vals, Aq])\n",
    "Nc = np.min([max_vals, Aq])\n",
    "\n",
    "c1_inds = np.vstack([c1_inds, c1term_i])\n",
    "c1_vals = np.vstack([c1_vals, c1term_v])\n",
    "c2_inds = np.vstack([c2_inds, c2term_i])\n",
    "c2_vals = np.vstack([c2_vals, c2term_v])\n",
    "\n",
    "in1_inds = b_inds\n",
    "in1_vals = b_vals\n"
   ]
  },
  {
   "cell_type": "code",
   "execution_count": 11,
   "metadata": {
    "collapsed": false,
    "jupyter": {
     "outputs_hidden": false
    }
   },
   "outputs": [],
   "source": [
    "in1_inds = np.vstack([in1_inds, b1term_i])\n",
    "in1_vals = np.vstack([in1_vals, b1term_v])\n",
    "\n",
    "\n",
    "Nd = Aq\n",
    "Nc = Aq\n",
    "max_valsS = 64\n",
    "#out1_vals, out1_inds = S.F.update_lim(in1_inds, in1_vals, c1_inds, c1_vals, Nd, 50, Nc)\n",
    "#temp = np.vstack([VN2_update(out1_inds[i,:], b_inds[i,:], out1_vals[i,:], b_vals[i,:]) for i in range(k)])\n",
    "#in2_inds = temp[::2]\n",
    "#in2_vals = temp[1::2]\n",
    "#in2_inds = np.vstack([in2_inds[inter], b2term_i])\n",
    "#in2_vals = np.vstack([in2_vals[inter], b2term_v])\n",
    "#out2_vals, out2_inds = S.F.update_lim(in2_inds, in2_vals, c2_inds, c2_vals, Nd, 50, Nc)\n",
    "\n",
    "\n",
    "#out2_vals, out2_inds = S.F.update_lim(in2_inds, in2_vals, c2_inds, c2_vals, Nd, 50, Nc)\n",
    "#in1_inds = out2_inds[deinter]\n",
    "#in1_vals = out2_vals[deinter]\n",
    "#temp = np.vstack([VN2_update(in1_inds[i,:], b_inds[i,:], in1_vals[i,:], b_vals[i,:]) for i in range(k)])\n",
    "#in1_inds = temp[::2]\n",
    "#in1_vals = temp[1::2]"
   ]
  },
  {
   "cell_type": "code",
   "execution_count": 13,
   "metadata": {
    "collapsed": false,
    "jupyter": {
     "outputs_hidden": false
    }
   },
   "outputs": [
    {
     "name": "stdout",
     "output_type": "stream",
     "text": [
      "[[ 0 -1  0  0  0  0  0  0]\n",
      " [16 48  0 32 -1  0  0  0]\n",
      " [52 20 36 60  4 48 28 44]\n",
      " [29 31  9 13 53 25 21 28]\n",
      " [51 35 19 50 49 59 54 38]\n",
      " [ 0 32  2 17 16  4 40 20]] [[  1.00000000e+00   0.00000000e+00   0.00000000e+00   0.00000000e+00\n",
      "    0.00000000e+00   0.00000000e+00   0.00000000e+00   0.00000000e+00]\n",
      " [  1.00000000e+00   1.77167841e-21   2.30454247e-31   4.08290813e-52\n",
      "    0.00000000e+00   0.00000000e+00   0.00000000e+00   0.00000000e+00]\n",
      " [  1.00000000e+00   1.25901855e-11   5.76150445e-13   1.77167841e-21\n",
      "    7.25384097e-24   2.30454247e-31   2.23057598e-32   1.02075330e-33]\n",
      " [  1.00000000e+00   1.77167841e-21   3.18756203e-23   6.53382154e-26\n",
      "    1.39061272e-26   6.80425258e-28   2.04034772e-28   2.30454247e-31]\n",
      " [  1.00000000e+00   2.40356055e-20   2.83569011e-25   6.80425258e-28\n",
      "    2.04034772e-28   8.42608118e-32   5.59323489e-33   4.36625705e-33]\n",
      " [  1.00000000e+00   4.58497991e-24   8.42608118e-32   4.36625705e-33\n",
      "    4.22347447e-33   9.30917244e-36   3.44519178e-36   2.62101418e-37]]\n"
     ]
    }
   ],
   "source": [
    "out1_vals, out1_inds = S.F.update_lim(in1_inds, in1_vals, c1_inds, c1_vals, 4, 8, 4)"
   ]
  },
  {
   "cell_type": "code",
   "execution_count": 12,
   "metadata": {
    "collapsed": false,
    "jupyter": {
     "outputs_hidden": false
    }
   },
   "outputs": [
    {
     "name": "stdout",
     "output_type": "stream",
     "text": [
      "CPU times: user 2.66 s, sys: 4 ms, total: 2.66 s\n",
      "Wall time: 2.66 s\n"
     ]
    }
   ],
   "source": [
    "import _Sparse_Turbo_lib\n",
    "%time _Sparse_Turbo_lib.FSM_update_sparse_test(in1_inds, in1_vals, c1_inds, c1_vals, S.F.S, S.F.Q, S.F.S1, S.F.Q1, S.F.Qm1,16 , 4096, 16)\n",
    "#print in1_inds, in1_vals, c1_inds, c1_vals\n"
   ]
  },
  {
   "cell_type": "code",
   "execution_count": 30,
   "metadata": {
    "collapsed": false,
    "jupyter": {
     "outputs_hidden": false
    }
   },
   "outputs": [],
   "source": [
    "temp = np.vstack([VN2_update(out1_inds[i,:], b_inds[i,:], out1_vals[i,:], b_vals[i,:]) for i in range(k)])\n",
    "in2_inds = temp[::2]\n",
    "in2_vals = temp[1::2]"
   ]
  },
  {
   "cell_type": "code",
   "execution_count": 34,
   "metadata": {
    "collapsed": false,
    "jupyter": {
     "outputs_hidden": false
    }
   },
   "outputs": [
    {
     "data": {
      "text/plain": [
       "array([[ 0,  1,  2,  3,  4,  5,  6,  7,  8,  9, 10, 11, 12, 13, 14, 15],\n",
       "       [ 0,  1,  2,  5,  6,  9, -1,  0,  0,  0,  0,  0,  0,  0,  0,  0],\n",
       "       [ 0,  1,  2,  3,  4,  5,  6,  7, 11, 14, 15, -1,  0,  0,  0,  0],\n",
       "       [ 0,  1,  2,  3,  4,  5,  6,  7,  9, -1,  0,  0,  0,  0,  0,  0],\n",
       "       [ 0,  9, 10, 13, 14, -1,  0,  0,  0,  0,  0,  0,  0,  0,  0,  0],\n",
       "       [ 0,  4, -1,  0,  0,  0,  0,  0,  0,  0,  0,  0,  0,  0,  0,  0]])"
      ]
     },
     "execution_count": 34,
     "metadata": {},
     "output_type": "execute_result"
    }
   ],
   "source": [
    "np.int64(in2_inds)"
   ]
  },
  {
   "cell_type": "code",
   "execution_count": 51,
   "metadata": {
    "collapsed": false,
    "jupyter": {
     "outputs_hidden": false
    }
   },
   "outputs": [],
   "source": []
  },
  {
   "cell_type": "code",
   "execution_count": 61,
   "metadata": {
    "collapsed": false,
    "jupyter": {
     "outputs_hidden": false
    }
   },
   "outputs": [],
   "source": [
    "max_vals = 4\n",
    "k = S.k\n",
    "p = S.p\n",
    "inter = S.inter\n",
    "deinter = S.deinter\n",
    "mbi = mu[:k,:]\n",
    "mci = mu[k:,:]\n",
    "map_inds_c1 = S.map_inds_c1\n",
    "map_inds_c2 = S.map_inds_c2\n",
    "mci1t = np.ones([k, Aq], float)/Aq;\n",
    "mci1t[map_inds_c1, :] = mci[::2]\n",
    "mci2t = np.ones([k, Aq], float)/Aq;\n",
    "mci2t[map_inds_c2, :] = mci[1::2]\n"
   ]
  },
  {
   "cell_type": "code",
   "execution_count": 63,
   "metadata": {
    "collapsed": false,
    "jupyter": {
     "outputs_hidden": false
    }
   },
   "outputs": [
    {
     "data": {
      "text/plain": [
       "array([  1.95219570e-18,   5.11322739e-01,   1.47449293e-30,\n",
       "         3.86201938e-13,   2.34503386e-14,   6.80569222e-29,\n",
       "         9.74557338e-01,   2.82833327e-15])"
      ]
     },
     "execution_count": 63,
     "metadata": {},
     "output_type": "execute_result"
    }
   ],
   "source": [
    "pc2 = mci2t.flatten()\n",
    "pc1 = mci1t.flatten()\n",
    "pd = mbi.flatten()"
   ]
  },
  {
   "cell_type": "code",
   "execution_count": 1,
   "metadata": {
    "collapsed": false,
    "jupyter": {
     "outputs_hidden": false
    }
   },
   "outputs": [],
   "source": [
    "run Advandeced_Turbo_lib.py"
   ]
  },
  {
   "cell_type": "code",
   "execution_count": 5,
   "metadata": {
    "collapsed": true,
    "jupyter": {
     "outputs_hidden": true
    }
   },
   "outputs": [],
   "source": [
    "def QAM(M): # 2**M QAM constellation\n",
    "    if M == 0:\n",
    "        return np.array([0])\n",
    "    odd = M % 2\n",
    "    base = (M - odd) / 2\n",
    "    min_Re = -2**(base+odd) + 1\n",
    "    max_Re = 2**(base+odd) - 1\n",
    "    min_Im = -2**base + 1\n",
    "    max_Im = 2**base - 1\n",
    "    const = np.asarray([i + 1j*j  for i in np.arange(min_Re, max_Re+1, 2)\\\n",
    "                                   for j in np.arange(min_Im, max_Im+1, 2)])\n",
    "    scale = np.sqrt((np.abs(const)**2).sum()/float(2**M))\n",
    "    return const / scale\n",
    "\n",
    "\n",
    "Nb = 2\n",
    "k = 5\n",
    "const = QAM(Nb)\n",
    "SNR = 12\n",
    "Aq = 2**Nb\n"
   ]
  },
  {
   "cell_type": "code",
   "execution_count": 6,
   "metadata": {
    "collapsed": true,
    "jupyter": {
     "outputs_hidden": true
    }
   },
   "outputs": [],
   "source": [
    "SNR = 5\n",
    "S = Sparse_Turbo_Coder_MS(k, 5, 1./3, Aq, [], [])"
   ]
  },
  {
   "cell_type": "code",
   "execution_count": 7,
   "metadata": {
    "collapsed": false,
    "jupyter": {
     "outputs_hidden": false
    }
   },
   "outputs": [
    {
     "name": "stdout",
     "output_type": "stream",
     "text": [
      "[1 3 2 0 3 1 3 0 3 1 2 3 0 3 3]\n",
      "15\n"
     ]
    }
   ],
   "source": [
    "#b = np.random.randint(Aq, size=k)\n",
    "b = np.array([1,3,2,0,3],int)\n",
    "c = S.encode(b)\n",
    "print c\n",
    "N = len(c)\n",
    "print len(c)\n",
    "s = const[c]\n",
    "(x, sigma2w) = AWGN(s, SNR)"
   ]
  },
  {
   "cell_type": "code",
   "execution_count": 5,
   "metadata": {
    "collapsed": false,
    "jupyter": {
     "outputs_hidden": false
    }
   },
   "outputs": [],
   "source": [
    "mu = np.zeros([N, Aq])\n",
    "for i in range(Aq):\n",
    "    mu[:, i] = np.exp(-np.abs(x - const[i])**2/sigma2w)"
   ]
  },
  {
   "cell_type": "code",
   "execution_count": 6,
   "metadata": {
    "collapsed": true,
    "jupyter": {
     "outputs_hidden": true
    }
   },
   "outputs": [],
   "source": [
    "Nc = Aq\n",
    "Nd = Aq\n",
    "Ns = Aq**3\n",
    "theta = 1e-8"
   ]
  },
  {
   "cell_type": "code",
   "execution_count": 7,
   "metadata": {
    "collapsed": false,
    "jupyter": {
     "outputs_hidden": false
    }
   },
   "outputs": [],
   "source": [
    "max_vals = 4\n",
    "k = S.k\n",
    "p = S.p\n",
    "inter = S.inter\n",
    "deinter = S.deinter\n",
    "mbi = mu[:k,:]\n",
    "mci = mu[k:,:]\n",
    "map_inds_c1 = S.map_inds_c1\n",
    "map_inds_c2 = S.map_inds_c2\n",
    "mci1t = -np.ones([k, Aq], float);\n",
    "mci1t[map_inds_c1, :] = mci[::2]\n",
    "mci2t = -np.ones([k, Aq], float);\n",
    "mci2t[map_inds_c2, :] = mci[1::2]\n",
    "\n",
    "pc1 = mci1t.flatten()\n",
    "pc2 = mci2t.flatten()\n",
    "pd = mbi.flatten()\n",
    "res = np.zeros(k, int)\n",
    "inter = S.inter\n",
    "deinter = S.deinter"
   ]
  },
  {
   "cell_type": "code",
   "execution_count": null,
   "metadata": {
    "collapsed": false,
    "jupyter": {
     "outputs_hidden": false
    }
   },
   "outputs": [],
   "source": [
    "_Sparse_Turbo_lib.turbo_decodeMS_func(pc1, pc2, pd, res, inter, deinter, S.K, S.k, Aq, Nc, Nd, Ns, theta)"
   ]
  },
  {
   "cell_type": "code",
   "execution_count": 1,
   "metadata": {
    "collapsed": false,
    "jupyter": {
     "outputs_hidden": false
    }
   },
   "outputs": [],
   "source": [
    "run Advandeced_Turbo_lib.py"
   ]
  },
  {
   "cell_type": "code",
   "execution_count": 2,
   "metadata": {
    "collapsed": true,
    "jupyter": {
     "outputs_hidden": true
    }
   },
   "outputs": [],
   "source": [
    "import _Turbo_lib\n",
    "import _Sparse_Turbo_lib"
   ]
  },
  {
   "cell_type": "code",
   "execution_count": 19,
   "metadata": {
    "collapsed": false,
    "jupyter": {
     "outputs_hidden": false
    }
   },
   "outputs": [],
   "source": [
    "N = 4\n",
    "Aq = 2\n",
    "d = np.random.randint(Aq,size=N)\n",
    "c = np.zeros(N,int)\n",
    "_Sparse_Turbo_lib.FSM_sparse_encode_MS(d, c, Aq)\n",
    "SNR = 5\n"
   ]
  },
  {
   "cell_type": "code",
   "execution_count": 20,
   "metadata": {
    "collapsed": false,
    "jupyter": {
     "outputs_hidden": false
    }
   },
   "outputs": [
    {
     "name": "stdout",
     "output_type": "stream",
     "text": [
      "[0 1 0 0] [0 1 1 1]\n"
     ]
    }
   ],
   "source": [
    "print c,d"
   ]
  },
  {
   "cell_type": "code",
   "execution_count": 21,
   "metadata": {
    "collapsed": true,
    "jupyter": {
     "outputs_hidden": true
    }
   },
   "outputs": [],
   "source": [
    "def ASK_MOD(Aq):\n",
    "    Am = np.linspace(-1,1,Aq)\n",
    "    return Am / np.sqrt(np.sum(Am**2)/Aq)"
   ]
  },
  {
   "cell_type": "code",
   "execution_count": 22,
   "metadata": {
    "collapsed": false,
    "jupyter": {
     "outputs_hidden": false
    }
   },
   "outputs": [],
   "source": [
    "const = ASK_MOD(Aq)\n",
    "s = np.hstack([const[d], const[c]])\n",
    "(x, sigma2w) = AWGN(s, SNR)"
   ]
  },
  {
   "cell_type": "code",
   "execution_count": 23,
   "metadata": {
    "collapsed": true,
    "jupyter": {
     "outputs_hidden": true
    }
   },
   "outputs": [],
   "source": [
    "mud = np.zeros([N, Aq], float)\n",
    "muc = np.zeros([N, Aq], float)\n",
    "pout = np.zeros([N, Aq], float)\n",
    "Rxx = np.zeros([Aq,Aq])\n",
    "for i in range(Aq):\n",
    "    mud[:,i] = np.exp(-np.abs(x[:N] - const[i])**2/sigma2w)\n",
    "    muc[:,i] = np.exp(-np.abs(x[N:] - const[i])**2/sigma2w)"
   ]
  },
  {
   "cell_type": "code",
   "execution_count": 18,
   "metadata": {
    "collapsed": false,
    "jupyter": {
     "outputs_hidden": false
    }
   },
   "outputs": [
    {
     "name": "stdout",
     "output_type": "stream",
     "text": [
      "0 0 0 0 0 0 (5, 8)\n",
      "0 0 0 1 1 0 (5, 8)\n",
      "lost track\n",
      "0 0 0 0 0 0 (5, 8)\n",
      "0 1 0 0 0 2 (5, 8)\n",
      "1 0 1 0 0 5 (5, 8)\n",
      "1 1 1 0 0 7 (5, 8)\n",
      "[[ 1.     0.     0.     0.     0.     0.     0.     0.   ]\n",
      " [ 1.     0.     0.     0.     0.     0.     0.     0.   ]\n",
      " [ 1.     0.     0.     0.     0.     0.     0.     0.   ]\n",
      " [ 0.125  0.125  0.125  0.125  0.125  0.125  0.125  0.125]\n",
      " [ 0.25   0.     0.25   0.     0.     0.25   0.     0.25 ]]\n"
     ]
    }
   ],
   "source": [
    "_Sparse_Turbo_lib.FSM_update_eff(mud, muc, pout,1e-3)"
   ]
  },
  {
   "cell_type": "code",
   "execution_count": 17,
   "metadata": {
    "collapsed": false,
    "jupyter": {
     "outputs_hidden": false
    }
   },
   "outputs": [
    {
     "name": "stdout",
     "output_type": "stream",
     "text": [
      "CPU times: user 35.3 s, sys: 129 ms, total: 35.4 s\n",
      "Wall time: 35.4 s\n"
     ]
    }
   ],
   "source": [
    "%time _Sparse_Turbo_lib.FSM_update_ref_simple_Rxx(mud, muc, pout, Rxx)"
   ]
  },
  {
   "cell_type": "code",
   "execution_count": 18,
   "metadata": {
    "collapsed": false,
    "jupyter": {
     "outputs_hidden": false
    }
   },
   "outputs": [
    {
     "data": {
      "text/plain": [
       "4127"
      ]
     },
     "execution_count": 18,
     "metadata": {},
     "output_type": "execute_result"
    }
   ],
   "source": [
    "np.sum(np.argmax(pout, axis=1) != d)"
   ]
  },
  {
   "cell_type": "code",
   "execution_count": 19,
   "metadata": {
    "collapsed": false,
    "jupyter": {
     "outputs_hidden": false
    }
   },
   "outputs": [],
   "source": [
    "v,w = np.linalg.eig(Rxx)"
   ]
  },
  {
   "cell_type": "code",
   "execution_count": 24,
   "metadata": {
    "collapsed": false,
    "jupyter": {
     "outputs_hidden": false
    }
   },
   "outputs": [],
   "source": [
    "#plt.plot(np.sort(v),'r-')\n",
    "plt.plot(w[np.argsort(v)[-1],:],'k-')\n",
    "plt.show()"
   ]
  },
  {
   "cell_type": "code",
   "execution_count": 24,
   "metadata": {
    "collapsed": true,
    "jupyter": {
     "outputs_hidden": true
    }
   },
   "outputs": [],
   "source": [
    "mudf = mud.flatten()\n",
    "mucf = muc.flatten()\n",
    "poutf = np.zeros(len(mudf))\n",
    "S = np.zeros([Aq,Aq**3], int)\n",
    "Q = np.zeros([Aq,Aq**3], int)\n",
    "_Turbo_lib.create_matrix_SQ_MS_mod(S,Q)"
   ]
  },
  {
   "cell_type": "code",
   "execution_count": 25,
   "metadata": {
    "collapsed": false,
    "jupyter": {
     "outputs_hidden": false
    }
   },
   "outputs": [],
   "source": [
    "_Turbo_lib.update_general_FSM_func(mucf, mudf, poutf, S, Q)"
   ]
  },
  {
   "cell_type": "code",
   "execution_count": 11,
   "metadata": {
    "collapsed": false,
    "jupyter": {
     "outputs_hidden": false
    }
   },
   "outputs": [
    {
     "data": {
      "text/plain": [
       "0.00062305218272173946"
      ]
     },
     "execution_count": 11,
     "metadata": {},
     "output_type": "execute_result"
    }
   ],
   "source": [
    "np.max(poutf.reshape(N,Aq)-pout)"
   ]
  },
  {
   "cell_type": "code",
   "execution_count": 32,
   "metadata": {
    "collapsed": true,
    "jupyter": {
     "outputs_hidden": true
    }
   },
   "outputs": [],
   "source": [
    "Rxx = np.zeros([Aq,Aq])\n",
    "for i in range(N):\n",
    "    vec = np.asarray([mud[i,:]])\n",
    "    Rxx += np.dot(vec.T,vec)/float(N)\n"
   ]
  },
  {
   "cell_type": "code",
   "execution_count": 33,
   "metadata": {
    "collapsed": true,
    "jupyter": {
     "outputs_hidden": true
    }
   },
   "outputs": [],
   "source": [
    "v,w = np.linalg.eig(Rxx)"
   ]
  },
  {
   "cell_type": "code",
   "execution_count": 39,
   "metadata": {
    "collapsed": false,
    "jupyter": {
     "outputs_hidden": false
    }
   },
   "outputs": [],
   "source": [
    "#plt.plot(np.sort(v),'r-')\n",
    "plt.plot(w[:,np.argsort(v)[-4]],'k-')\n",
    "plt.show()"
   ]
  },
  {
   "cell_type": "code",
   "execution_count": null,
   "metadata": {
    "collapsed": true,
    "jupyter": {
     "outputs_hidden": true
    }
   },
   "outputs": [],
   "source": [
    "_Turbo_lib.update_FSM_func"
   ]
  }
 ],
 "metadata": {
  "kernelspec": {
   "display_name": "Python 3",
   "language": "python",
   "name": "python3"
  },
  "language_info": {
   "codemirror_mode": {
    "name": "ipython",
    "version": 3
   },
   "file_extension": ".py",
   "mimetype": "text/x-python",
   "name": "python",
   "nbconvert_exporter": "python",
   "pygments_lexer": "ipython3",
   "version": "3.7.9"
  }
 },
 "nbformat": 4,
 "nbformat_minor": 4
}
